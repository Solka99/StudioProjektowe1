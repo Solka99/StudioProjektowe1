{
 "cells": [
  {
   "cell_type": "code",
   "id": "initial_id",
   "metadata": {
    "collapsed": true,
    "ExecuteTime": {
     "end_time": "2024-12-29T11:36:55.335526Z",
     "start_time": "2024-12-29T11:36:55.328577Z"
    }
   },
   "source": [
    "import pandas as pd\n",
    "import os\n",
    "import matplotlib.pyplot as plt\n",
    "import numpy as np\n",
    "import re\n",
    "from scipy import signal\n",
    "from sklearn import preprocessing\n",
    "from sklearn.ensemble import RandomForestClassifier\n",
    "from sklearn.model_selection import train_test_split, cross_val_score, KFold\n",
    "from sklearn.preprocessing import StandardScaler, LabelEncoder\n",
    "from sklearn.metrics import confusion_matrix, classification_report\n",
    "from sklearn.metrics import accuracy_score, precision_score, recall_score, f1_score"
   ],
   "outputs": [],
   "execution_count": 56
  },
  {
   "metadata": {
    "ExecuteTime": {
     "end_time": "2024-12-29T11:36:55.823634Z",
     "start_time": "2024-12-29T11:36:55.399076Z"
    }
   },
   "cell_type": "code",
   "source": "data = pd.read_csv('data_scaled.csv')",
   "id": "60a3ced0f65eadb8",
   "outputs": [],
   "execution_count": 57
  },
  {
   "metadata": {
    "ExecuteTime": {
     "end_time": "2024-12-29T11:36:55.855517Z",
     "start_time": "2024-12-29T11:36:55.834572Z"
    }
   },
   "cell_type": "code",
   "source": "data.head()",
   "id": "f4df719f70da5274",
   "outputs": [
    {
     "data": {
      "text/plain": [
       "          x         y         z activity\n",
       "0  0.457376  0.689453  0.421540  Walking\n",
       "1  0.438482  0.717446  0.420169  Walking\n",
       "2  0.544191  0.755916  0.477840  Walking\n",
       "3  0.487291  0.800191  0.390204  Walking\n",
       "4  0.391350  0.836838  0.224368  Walking"
      ],
      "text/html": [
       "<div>\n",
       "<style scoped>\n",
       "    .dataframe tbody tr th:only-of-type {\n",
       "        vertical-align: middle;\n",
       "    }\n",
       "\n",
       "    .dataframe tbody tr th {\n",
       "        vertical-align: top;\n",
       "    }\n",
       "\n",
       "    .dataframe thead th {\n",
       "        text-align: right;\n",
       "    }\n",
       "</style>\n",
       "<table border=\"1\" class=\"dataframe\">\n",
       "  <thead>\n",
       "    <tr style=\"text-align: right;\">\n",
       "      <th></th>\n",
       "      <th>x</th>\n",
       "      <th>y</th>\n",
       "      <th>z</th>\n",
       "      <th>activity</th>\n",
       "    </tr>\n",
       "  </thead>\n",
       "  <tbody>\n",
       "    <tr>\n",
       "      <th>0</th>\n",
       "      <td>0.457376</td>\n",
       "      <td>0.689453</td>\n",
       "      <td>0.421540</td>\n",
       "      <td>Walking</td>\n",
       "    </tr>\n",
       "    <tr>\n",
       "      <th>1</th>\n",
       "      <td>0.438482</td>\n",
       "      <td>0.717446</td>\n",
       "      <td>0.420169</td>\n",
       "      <td>Walking</td>\n",
       "    </tr>\n",
       "    <tr>\n",
       "      <th>2</th>\n",
       "      <td>0.544191</td>\n",
       "      <td>0.755916</td>\n",
       "      <td>0.477840</td>\n",
       "      <td>Walking</td>\n",
       "    </tr>\n",
       "    <tr>\n",
       "      <th>3</th>\n",
       "      <td>0.487291</td>\n",
       "      <td>0.800191</td>\n",
       "      <td>0.390204</td>\n",
       "      <td>Walking</td>\n",
       "    </tr>\n",
       "    <tr>\n",
       "      <th>4</th>\n",
       "      <td>0.391350</td>\n",
       "      <td>0.836838</td>\n",
       "      <td>0.224368</td>\n",
       "      <td>Walking</td>\n",
       "    </tr>\n",
       "  </tbody>\n",
       "</table>\n",
       "</div>"
      ]
     },
     "execution_count": 58,
     "metadata": {},
     "output_type": "execute_result"
    }
   ],
   "execution_count": 58
  },
  {
   "metadata": {
    "ExecuteTime": {
     "end_time": "2024-12-29T11:36:55.966220Z",
     "start_time": "2024-12-29T11:36:55.951259Z"
    }
   },
   "cell_type": "code",
   "source": [
    "# list=data.activity.unique()\n",
    "# list=list.tolist()\n",
    "# list\n",
    "# list.pop()\n",
    "# filtered_data = data[~data['activity'].isin(list)]\n",
    "# filtered_data\n",
    "# data1=data.drop(filtered_data.index)\n",
    "# data1.shape"
   ],
   "id": "7825aa92f92e8ee7",
   "outputs": [],
   "execution_count": 59
  },
  {
   "metadata": {
    "ExecuteTime": {
     "end_time": "2024-12-29T11:36:56.076192Z",
     "start_time": "2024-12-29T11:36:56.055218Z"
    }
   },
   "cell_type": "code",
   "source": [
    "X = data1[['x', 'y', 'z']]\n",
    "y = data1['activity']"
   ],
   "id": "ce3b79909c26654b",
   "outputs": [],
   "execution_count": 60
  },
  {
   "metadata": {
    "ExecuteTime": {
     "end_time": "2024-12-29T11:36:56.263363Z",
     "start_time": "2024-12-29T11:36:56.187245Z"
    }
   },
   "cell_type": "code",
   "source": [
    "from sklearn.model_selection import train_test_split\n",
    "X_train, X_test, y_train, y_test = train_test_split(X,y,test_size=0.2)"
   ],
   "id": "393ae6e0e8662966",
   "outputs": [],
   "execution_count": 61
  },
  {
   "metadata": {
    "ExecuteTime": {
     "end_time": "2024-12-29T11:36:56.419847Z",
     "start_time": "2024-12-29T11:36:56.274337Z"
    }
   },
   "cell_type": "code",
   "source": [
    "from sklearn.preprocessing import LabelEncoder\n",
    "label_encoder = LabelEncoder()\n",
    "y_train_good = label_encoder.fit_transform(y_train)\n",
    "y_test_good = label_encoder.fit_transform(y_test)"
   ],
   "id": "7d73d40ccb168353",
   "outputs": [],
   "execution_count": 62
  },
  {
   "metadata": {
    "ExecuteTime": {
     "end_time": "2024-12-29T11:36:56.482818Z",
     "start_time": "2024-12-29T11:36:56.469855Z"
    }
   },
   "cell_type": "code",
   "source": "data.shape",
   "id": "c9177f69001ef6dc",
   "outputs": [
    {
     "data": {
      "text/plain": [
       "(648482, 4)"
      ]
     },
     "execution_count": 63,
     "metadata": {},
     "output_type": "execute_result"
    }
   ],
   "execution_count": 63
  },
  {
   "metadata": {
    "ExecuteTime": {
     "end_time": "2024-12-29T11:36:56.530195Z",
     "start_time": "2024-12-29T11:36:56.517723Z"
    }
   },
   "cell_type": "code",
   "source": "data1.shape\n",
   "id": "e27225589fd3245",
   "outputs": [
    {
     "data": {
      "text/plain": [
       "(648481, 4)"
      ]
     },
     "execution_count": 64,
     "metadata": {},
     "output_type": "execute_result"
    }
   ],
   "execution_count": 64
  },
  {
   "metadata": {
    "ExecuteTime": {
     "end_time": "2024-12-29T11:36:56.577036Z",
     "start_time": "2024-12-29T11:36:56.563074Z"
    }
   },
   "cell_type": "code",
   "source": "",
   "id": "eaa4c41de1257596",
   "outputs": [],
   "execution_count": null
  },
  {
   "metadata": {
    "ExecuteTime": {
     "end_time": "2024-12-29T11:36:56.655824Z",
     "start_time": "2024-12-29T11:36:56.610947Z"
    }
   },
   "cell_type": "code",
   "source": [
    "list=data1.activity.unique()\n",
    "list"
   ],
   "id": "4ec139751a679e09",
   "outputs": [
    {
     "data": {
      "text/plain": [
       "array(['Walking', 'Jogging', 'Stairs', 'Sitting', 'Standing', 'Typing',\n",
       "       'Brushing Teeth', 'Eating Soup', 'Eating Chips', 'Eating Pasta',\n",
       "       'Drinking from Cup', 'Eating Sandwich', 'Kicking (Soccer Ball)',\n",
       "       'Playing Catch w/Tennis Ball', 'Dribbling (Basketball)', 'Writing',\n",
       "       'Clapping', 'Folding Clothes'], dtype=object)"
      ]
     },
     "execution_count": 65,
     "metadata": {},
     "output_type": "execute_result"
    }
   ],
   "execution_count": 65
  },
  {
   "metadata": {},
   "cell_type": "markdown",
   "source": "# Podział na okna czasowe",
   "id": "ab0bc9ccd6a33d33"
  },
  {
   "metadata": {
    "ExecuteTime": {
     "end_time": "2024-12-29T11:36:56.703728Z",
     "start_time": "2024-12-29T11:36:56.688736Z"
    }
   },
   "cell_type": "code",
   "source": [
    "# import numpy as np\n",
    "#\n",
    "# def create_time_windows_20Hz(data, labels, window_size_seconds, overlap):\n",
    "#     \"\"\"\n",
    "#     Dzieli dane próbkowane na 20 Hz na okna czasowe.\n",
    "#\n",
    "#     Parametry:\n",
    "#     - data: NumPy array z danymi (kształt: [n_próbek, n_kanłów])\n",
    "#     - labels: NumPy array z etykietami (kształt: [n_próbek,])\n",
    "#     - window_size_seconds: długość okna w sekundach (np. 3)\n",
    "#     - overlap: procent nakładania (np. 0.5 dla 50%)\n",
    "#\n",
    "#     Zwraca:\n",
    "#     - windows: NumPy array z oknami danych (kształt: [n_okien, rozmiar_okna, n_kanłów])\n",
    "#     - window_labels: NumPy array z etykietami dla okien\n",
    "#     \"\"\"\n",
    "#     freq = 20  # Hz\n",
    "#     window_size = int(window_size_seconds * freq)  # Rozmiar okna w próbkach\n",
    "#     step = int(window_size * (1 - overlap))  # Przesunięcie okna\n",
    "#\n",
    "#     windows = []\n",
    "#     window_labels = []\n",
    "#\n",
    "#     for start in range(0, len(data) - window_size + 1, step):\n",
    "#         end = start + window_size\n",
    "#         windows.append(data[start:end])\n",
    "#         # Etykieta dla okna to najczęstsza wartość w oknie\n",
    "#         window_labels.append(np.bincount(labels[start:end]).argmax())\n",
    "#\n",
    "#     return np.array(windows), np.array(window_labels)\n",
    "#\n",
    "# data = X_train  # 3600 próbek, 3 kanały\n",
    "# labels = y_train_good # Jedna aktywność (etykieta 0)\n",
    "#\n",
    "# # Parametry okna czasowego\n",
    "# window_size_seconds = 180\n",
    "# overlap = 0.5\n",
    "#\n",
    "# # Dzielimy na okna\n",
    "# X, y = create_time_windows_20Hz(data, labels, window_size_seconds, overlap)\n",
    "#\n",
    "# print(\"Kształt danych po podziale na okna:\")\n",
    "# print(f\"windows: {X.shape}\")  # (n_okien, długość_okna, liczba_kanłów)\n",
    "# print(f\"window_labels: {y.shape}\")  # (n_okien,)\n"
   ],
   "id": "d6890951a23fa3f9",
   "outputs": [],
   "execution_count": 66
  },
  {
   "metadata": {
    "ExecuteTime": {
     "end_time": "2024-12-29T11:36:58.411861Z",
     "start_time": "2024-12-29T11:36:56.736458Z"
    }
   },
   "cell_type": "code",
   "source": [
    "import numpy as np\n",
    "import pandas as pd\n",
    "from scipy.stats import mode\n",
    "from sklearn.model_selection import train_test_split\n",
    "import tensorflow as tf\n",
    "\n",
    "# Constants\n",
    "N_TIME_STEPS = 90\n",
    "N_FEATURES = 3\n",
    "step = 20\n",
    "RANDOM_SEED = 42\n",
    "\n",
    "segments = []\n",
    "labels = []\n",
    "from collections import Counter\n",
    "# Loop to segment the data\n",
    "for i in range(0, len(data1) - N_TIME_STEPS, step):\n",
    "    xs = data1['x'].values[i: i + N_TIME_STEPS]\n",
    "    ys = data1['y'].values[i: i + N_TIME_STEPS]\n",
    "    zs = data1['z'].values[i: i + N_TIME_STEPS]\n",
    "\n",
    "    # Replace stats.mode with an alternative using collections.Counter\n",
    "    segment_labels = data1['activity'][i: i + N_TIME_STEPS]\n",
    "    label = Counter(segment_labels).most_common(1)[0][0]  # Calculate mode\n",
    "\n",
    "    # Append data and labels\n",
    "    segments.append([xs, ys, zs])\n",
    "    labels.append(label)\n",
    "\n",
    "# Reshape segments and encode labels\n",
    "reshaped_segments = np.asarray(segments, dtype=np.float32).reshape(-1, N_TIME_STEPS, N_FEATURES)\n",
    "labels = np.asarray(pd.get_dummies(labels), dtype=np.float32)\n",
    "\n",
    "# Split the data\n",
    "X_train, X_test, y_train, y_test = train_test_split(\n",
    "    reshaped_segments, labels, test_size=0.2, random_state=RANDOM_SEED)\n",
    "\n",
    "# Expand dimensions for TensorFlow compatibility\n",
    "X_train = tf.expand_dims(X_train, axis=-1)\n",
    "X_test = tf.expand_dims(X_test, axis=-1)"
   ],
   "id": "a533e90edee4deb3",
   "outputs": [],
   "execution_count": 67
  },
  {
   "metadata": {
    "ExecuteTime": {
     "end_time": "2024-12-29T11:36:58.458455Z",
     "start_time": "2024-12-29T11:36:58.445341Z"
    }
   },
   "cell_type": "code",
   "source": "X_train.shape",
   "id": "a373fe3eeacb8f5a",
   "outputs": [
    {
     "data": {
      "text/plain": [
       "TensorShape([25936, 90, 3, 1])"
      ]
     },
     "execution_count": 68,
     "metadata": {},
     "output_type": "execute_result"
    }
   ],
   "execution_count": 68
  },
  {
   "metadata": {},
   "cell_type": "markdown",
   "source": "# CNN",
   "id": "68e67c5bc88e7a2d"
  },
  {
   "metadata": {
    "ExecuteTime": {
     "end_time": "2024-12-29T11:36:58.537093Z",
     "start_time": "2024-12-29T11:36:58.494026Z"
    }
   },
   "cell_type": "code",
   "source": [
    "from sklearn.preprocessing import OneHotEncoder\n",
    "encoder = OneHotEncoder(sparse_output=False)\n",
    "y_onehot = encoder.fit_transform(y.reshape(-1, 1))"
   ],
   "id": "c0a1e92113db6f82",
   "outputs": [
    {
     "ename": "AttributeError",
     "evalue": "'Series' object has no attribute 'reshape'",
     "output_type": "error",
     "traceback": [
      "\u001B[1;31m---------------------------------------------------------------------------\u001B[0m",
      "\u001B[1;31mAttributeError\u001B[0m                            Traceback (most recent call last)",
      "\u001B[1;32m~\\AppData\\Local\\Temp\\ipykernel_23280\\1729926453.py\u001B[0m in \u001B[0;36m?\u001B[1;34m()\u001B[0m\n\u001B[0;32m      1\u001B[0m \u001B[1;32mfrom\u001B[0m \u001B[0msklearn\u001B[0m\u001B[1;33m.\u001B[0m\u001B[0mpreprocessing\u001B[0m \u001B[1;32mimport\u001B[0m \u001B[0mOneHotEncoder\u001B[0m\u001B[1;33m\u001B[0m\u001B[1;33m\u001B[0m\u001B[0m\n\u001B[0;32m      2\u001B[0m \u001B[0mencoder\u001B[0m \u001B[1;33m=\u001B[0m \u001B[0mOneHotEncoder\u001B[0m\u001B[1;33m(\u001B[0m\u001B[0msparse_output\u001B[0m\u001B[1;33m=\u001B[0m\u001B[1;32mFalse\u001B[0m\u001B[1;33m)\u001B[0m\u001B[1;33m\u001B[0m\u001B[1;33m\u001B[0m\u001B[0m\n\u001B[1;32m----> 3\u001B[1;33m \u001B[0my_onehot\u001B[0m \u001B[1;33m=\u001B[0m \u001B[0mencoder\u001B[0m\u001B[1;33m.\u001B[0m\u001B[0mfit_transform\u001B[0m\u001B[1;33m(\u001B[0m\u001B[0my\u001B[0m\u001B[1;33m.\u001B[0m\u001B[0mreshape\u001B[0m\u001B[1;33m(\u001B[0m\u001B[1;33m-\u001B[0m\u001B[1;36m1\u001B[0m\u001B[1;33m,\u001B[0m \u001B[1;36m1\u001B[0m\u001B[1;33m)\u001B[0m\u001B[1;33m)\u001B[0m\u001B[1;33m\u001B[0m\u001B[1;33m\u001B[0m\u001B[0m\n\u001B[0m",
      "\u001B[1;32m~\\PycharmProjects\\StudioProjektowe1\\.venv\\lib\\site-packages\\pandas\\core\\generic.py\u001B[0m in \u001B[0;36m?\u001B[1;34m(self, name)\u001B[0m\n\u001B[0;32m   6295\u001B[0m             \u001B[1;32mand\u001B[0m \u001B[0mname\u001B[0m \u001B[1;32mnot\u001B[0m \u001B[1;32min\u001B[0m \u001B[0mself\u001B[0m\u001B[1;33m.\u001B[0m\u001B[0m_accessors\u001B[0m\u001B[1;33m\u001B[0m\u001B[1;33m\u001B[0m\u001B[0m\n\u001B[0;32m   6296\u001B[0m             \u001B[1;32mand\u001B[0m \u001B[0mself\u001B[0m\u001B[1;33m.\u001B[0m\u001B[0m_info_axis\u001B[0m\u001B[1;33m.\u001B[0m\u001B[0m_can_hold_identifiers_and_holds_name\u001B[0m\u001B[1;33m(\u001B[0m\u001B[0mname\u001B[0m\u001B[1;33m)\u001B[0m\u001B[1;33m\u001B[0m\u001B[1;33m\u001B[0m\u001B[0m\n\u001B[0;32m   6297\u001B[0m         ):\n\u001B[0;32m   6298\u001B[0m             \u001B[1;32mreturn\u001B[0m \u001B[0mself\u001B[0m\u001B[1;33m[\u001B[0m\u001B[0mname\u001B[0m\u001B[1;33m]\u001B[0m\u001B[1;33m\u001B[0m\u001B[1;33m\u001B[0m\u001B[0m\n\u001B[1;32m-> 6299\u001B[1;33m         \u001B[1;32mreturn\u001B[0m \u001B[0mobject\u001B[0m\u001B[1;33m.\u001B[0m\u001B[0m__getattribute__\u001B[0m\u001B[1;33m(\u001B[0m\u001B[0mself\u001B[0m\u001B[1;33m,\u001B[0m \u001B[0mname\u001B[0m\u001B[1;33m)\u001B[0m\u001B[1;33m\u001B[0m\u001B[1;33m\u001B[0m\u001B[0m\n\u001B[0m",
      "\u001B[1;31mAttributeError\u001B[0m: 'Series' object has no attribute 'reshape'"
     ]
    }
   ],
   "execution_count": 69
  },
  {
   "metadata": {
    "ExecuteTime": {
     "end_time": "2024-12-29T11:36:58.542048400Z",
     "start_time": "2024-12-12T10:35:43.923687Z"
    }
   },
   "cell_type": "code",
   "source": [
    "# from sklearn.preprocessing import LabelEncoder\n",
    "# label_encoder = LabelEncoder()\n",
    "# y_good = label_encoder.fit_transform(y)\n",
    "# y_good"
   ],
   "id": "abb0d13434036852",
   "outputs": [
    {
     "data": {
      "text/plain": [
       "array([3, 4, 4, 2, 2, 4, 1, 4, 3, 8, 3, 1, 1, 3, 3, 1, 3, 3, 8, 4, 3, 3,\n",
       "       2, 3, 3, 4, 3, 3, 1, 1, 2, 2, 3, 4, 4, 3, 3, 4, 1, 2, 2, 1, 2, 3,\n",
       "       4, 3, 6, 4, 4, 1, 2, 2, 4, 8, 2, 3, 1, 2, 1, 1, 1, 3, 8, 8, 4, 4,\n",
       "       4, 3, 4, 4, 4, 4, 4, 4, 2, 3, 3, 2, 8, 4, 1, 1, 1, 2, 2, 3, 1, 3,\n",
       "       3, 3, 3, 3, 3, 2, 1, 3, 8, 4, 6, 1, 3, 3, 8, 8, 4, 4, 8, 8, 8, 8,\n",
       "       4, 4, 8, 8, 4, 4, 4, 4, 4, 2, 4, 3, 1, 4, 2, 2, 4, 3, 4, 2, 8, 4,\n",
       "       4, 4, 4, 2, 3, 3, 1, 3, 3, 3, 3, 4, 3, 3, 1, 1, 8, 3, 3, 8, 8, 4,\n",
       "       1, 1, 4, 8, 8, 2, 3, 8, 4, 2, 2, 3, 2, 3, 8, 4, 4, 4, 4, 1, 8, 4,\n",
       "       1, 3, 2, 1, 4, 0, 3, 3, 3, 3, 8, 1, 3, 2, 4, 4, 2, 4, 4, 2, 1, 1,\n",
       "       2, 2, 1, 3, 3, 8, 3, 4, 2, 1, 3, 8, 8, 2, 1, 4, 2, 8, 3, 1, 4, 1,\n",
       "       1, 2, 8, 2, 2, 3, 4, 4, 1, 1, 8, 4, 3, 1, 4, 4, 2, 2, 3, 3, 1, 1,\n",
       "       1, 1, 1, 3, 1, 1, 4, 4, 4, 4, 2, 2, 2, 1, 1, 3, 4, 8, 8, 4, 3, 3,\n",
       "       7, 4, 4, 2, 2, 2, 3, 3, 5, 2, 3, 3, 3, 4, 1, 8, 2, 2, 8, 8, 8, 2,\n",
       "       2])"
      ]
     },
     "execution_count": 56,
     "metadata": {},
     "output_type": "execute_result"
    }
   ],
   "execution_count": 56
  },
  {
   "metadata": {
    "ExecuteTime": {
     "end_time": "2024-12-29T11:36:58.544175400Z",
     "start_time": "2024-12-12T10:35:55.012958Z"
    }
   },
   "cell_type": "code",
   "source": "X_train, X_test, y_train, y_test = train_test_split(X, y_good, test_size=0.2)\n",
   "id": "49ab03afda39134b",
   "outputs": [],
   "execution_count": 57
  },
  {
   "metadata": {
    "ExecuteTime": {
     "end_time": "2024-12-29T11:36:58.552598800Z",
     "start_time": "2024-12-12T10:04:00.549929Z"
    }
   },
   "cell_type": "code",
   "source": "y",
   "id": "f055138d9f89e1c3",
   "outputs": [
    {
     "data": {
      "text/plain": [
       "array([ 4,  3,  3,  4, 16, 16,  6,  7,  7,  7,  7,  6,  6,  4,  7,  5,  3,\n",
       "       16,  7,  3, 16, 16,  3,  3,  3, 16, 16, 16,  4,  4,  5, 16,  7,  7,\n",
       "        6,  6,  6,  6,  7,  7,  7,  7,  7,  4,  4,  6,  7,  7,  6,  6,  7,\n",
       "        4,  6,  6,  6,  6,  6,  6,  7,  7,  4,  6,  4,  4,  3, 16,  3,  3,\n",
       "        4,  4,  7,  7,  7,  4,  7,  7,  7,  7,  6,  7,  7,  7,  6,  6,  7,\n",
       "       16, 12,  6,  7,  4, 16,  6,  6,  7,  7,  5,  7,  7,  4,  6,  6,  7,\n",
       "        3, 16,  6,  4,  4,  7,  6,  4,  3,  7,  4,  4, 16,  7,  4, 16, 16,\n",
       "        7,  7,  6,  6, 16,  7,  3,  7,  7,  6,  6,  6,  4,  4,  3,  4,  6,\n",
       "       16,  4,  6, 16, 16, 16, 16, 16,  6,  6,  7,  7, 16,  3,  4,  3, 16,\n",
       "       12, 16,  3,  7,  7,  3,  7,  4,  3,  7,  6, 16,  3,  3,  6,  6, 16,\n",
       "        3,  7,  4,  7,  7,  7,  7,  6,  0,  4,  6,  6,  0,  7, 16, 16,  7,\n",
       "        3,  7,  7, 16, 16, 16,  4, 16, 16, 16, 16,  6,  6,  4, 16,  7,  6,\n",
       "        3,  3,  3,  6,  4,  3,  7,  7,  6,  7,  4,  3,  3,  4,  4,  3,  7,\n",
       "        7, 16, 16,  4, 16,  3, 16, 16, 14,  6,  7, 16,  4,  4, 16, 16,  4,\n",
       "        7,  6,  6,  6,  6, 16, 16, 16,  3,  3,  3,  3,  7,  7,  6,  7,  7,\n",
       "        7,  7,  7, 16,  3,  6, 16,  7,  6,  3,  3,  3,  6,  6,  6,  3,  4,\n",
       "        4,  6,  6,  6,  7,  7,  6,  7,  6,  7,  7,  7,  7,  7,  7])"
      ]
     },
     "execution_count": 27,
     "metadata": {},
     "output_type": "execute_result"
    }
   ],
   "execution_count": 27
  },
  {
   "metadata": {
    "ExecuteTime": {
     "end_time": "2024-12-29T11:36:58.553629800Z",
     "start_time": "2024-12-12T10:04:05.261557Z"
    }
   },
   "cell_type": "code",
   "source": [
    "from collections import Counter\n",
    "print(\"Rozkład etykiet w zbiorze treningowym:\", Counter(np.argmax(y_train, axis=1)))\n",
    "print(\"Rozkład etykiet w zbiorze testowym:\", Counter(np.argmax(y_test, axis=1)))\n",
    "\n"
   ],
   "id": "c034bbc2413085c2",
   "outputs": [
    {
     "ename": "AxisError",
     "evalue": "axis 1 is out of bounds for array of dimension 1",
     "output_type": "error",
     "traceback": [
      "\u001B[1;31m---------------------------------------------------------------------------\u001B[0m",
      "\u001B[1;31mAxisError\u001B[0m                                 Traceback (most recent call last)",
      "Cell \u001B[1;32mIn[28], line 2\u001B[0m\n\u001B[0;32m      1\u001B[0m \u001B[38;5;28;01mfrom\u001B[39;00m \u001B[38;5;21;01mcollections\u001B[39;00m \u001B[38;5;28;01mimport\u001B[39;00m Counter\n\u001B[1;32m----> 2\u001B[0m \u001B[38;5;28mprint\u001B[39m(\u001B[38;5;124m\"\u001B[39m\u001B[38;5;124mRozkład etykiet w zbiorze treningowym:\u001B[39m\u001B[38;5;124m\"\u001B[39m, Counter(\u001B[43mnp\u001B[49m\u001B[38;5;241;43m.\u001B[39;49m\u001B[43margmax\u001B[49m\u001B[43m(\u001B[49m\u001B[43my_train\u001B[49m\u001B[43m,\u001B[49m\u001B[43m \u001B[49m\u001B[43maxis\u001B[49m\u001B[38;5;241;43m=\u001B[39;49m\u001B[38;5;241;43m1\u001B[39;49m\u001B[43m)\u001B[49m))\n\u001B[0;32m      3\u001B[0m \u001B[38;5;28mprint\u001B[39m(\u001B[38;5;124m\"\u001B[39m\u001B[38;5;124mRozkład etykiet w zbiorze testowym:\u001B[39m\u001B[38;5;124m\"\u001B[39m, Counter(np\u001B[38;5;241m.\u001B[39margmax(y_test, axis\u001B[38;5;241m=\u001B[39m\u001B[38;5;241m1\u001B[39m)))\n",
      "File \u001B[1;32m~\\AppData\\Local\\Programs\\Python\\Python310\\lib\\site-packages\\numpy\\_core\\fromnumeric.py:1298\u001B[0m, in \u001B[0;36margmax\u001B[1;34m(a, axis, out, keepdims)\u001B[0m\n\u001B[0;32m   1210\u001B[0m \u001B[38;5;250m\u001B[39m\u001B[38;5;124;03m\"\"\"\u001B[39;00m\n\u001B[0;32m   1211\u001B[0m \u001B[38;5;124;03mReturns the indices of the maximum values along an axis.\u001B[39;00m\n\u001B[0;32m   1212\u001B[0m \n\u001B[1;32m   (...)\u001B[0m\n\u001B[0;32m   1295\u001B[0m \u001B[38;5;124;03m(2, 1, 4)\u001B[39;00m\n\u001B[0;32m   1296\u001B[0m \u001B[38;5;124;03m\"\"\"\u001B[39;00m\n\u001B[0;32m   1297\u001B[0m kwds \u001B[38;5;241m=\u001B[39m {\u001B[38;5;124m'\u001B[39m\u001B[38;5;124mkeepdims\u001B[39m\u001B[38;5;124m'\u001B[39m: keepdims} \u001B[38;5;28;01mif\u001B[39;00m keepdims \u001B[38;5;129;01mis\u001B[39;00m \u001B[38;5;129;01mnot\u001B[39;00m np\u001B[38;5;241m.\u001B[39m_NoValue \u001B[38;5;28;01melse\u001B[39;00m {}\n\u001B[1;32m-> 1298\u001B[0m \u001B[38;5;28;01mreturn\u001B[39;00m _wrapfunc(a, \u001B[38;5;124m'\u001B[39m\u001B[38;5;124margmax\u001B[39m\u001B[38;5;124m'\u001B[39m, axis\u001B[38;5;241m=\u001B[39maxis, out\u001B[38;5;241m=\u001B[39mout, \u001B[38;5;241m*\u001B[39m\u001B[38;5;241m*\u001B[39mkwds)\n",
      "File \u001B[1;32m~\\AppData\\Local\\Programs\\Python\\Python310\\lib\\site-packages\\numpy\\_core\\fromnumeric.py:57\u001B[0m, in \u001B[0;36m_wrapfunc\u001B[1;34m(obj, method, *args, **kwds)\u001B[0m\n\u001B[0;32m     54\u001B[0m     \u001B[38;5;28;01mreturn\u001B[39;00m _wrapit(obj, method, \u001B[38;5;241m*\u001B[39margs, \u001B[38;5;241m*\u001B[39m\u001B[38;5;241m*\u001B[39mkwds)\n\u001B[0;32m     56\u001B[0m \u001B[38;5;28;01mtry\u001B[39;00m:\n\u001B[1;32m---> 57\u001B[0m     \u001B[38;5;28;01mreturn\u001B[39;00m bound(\u001B[38;5;241m*\u001B[39margs, \u001B[38;5;241m*\u001B[39m\u001B[38;5;241m*\u001B[39mkwds)\n\u001B[0;32m     58\u001B[0m \u001B[38;5;28;01mexcept\u001B[39;00m \u001B[38;5;167;01mTypeError\u001B[39;00m:\n\u001B[0;32m     59\u001B[0m     \u001B[38;5;66;03m# A TypeError occurs if the object does have such a method in its\u001B[39;00m\n\u001B[0;32m     60\u001B[0m     \u001B[38;5;66;03m# class, but its signature is not identical to that of NumPy's. This\u001B[39;00m\n\u001B[1;32m   (...)\u001B[0m\n\u001B[0;32m     64\u001B[0m     \u001B[38;5;66;03m# Call _wrapit from within the except clause to ensure a potential\u001B[39;00m\n\u001B[0;32m     65\u001B[0m     \u001B[38;5;66;03m# exception has a traceback chain.\u001B[39;00m\n\u001B[0;32m     66\u001B[0m     \u001B[38;5;28;01mreturn\u001B[39;00m _wrapit(obj, method, \u001B[38;5;241m*\u001B[39margs, \u001B[38;5;241m*\u001B[39m\u001B[38;5;241m*\u001B[39mkwds)\n",
      "\u001B[1;31mAxisError\u001B[0m: axis 1 is out of bounds for array of dimension 1"
     ]
    }
   ],
   "execution_count": 28
  },
  {
   "metadata": {
    "ExecuteTime": {
     "end_time": "2024-12-29T11:36:58.554595400Z",
     "start_time": "2024-12-12T10:04:09.425070Z"
    }
   },
   "cell_type": "code",
   "source": "y_train",
   "id": "cb8a64135429c819",
   "outputs": [
    {
     "data": {
      "text/plain": [
       "array([4, 5, 5, 8, 8, 5, 1, 2, 8, 5, 5, 8, 8, 2, 2, 5, 2, 5, 2, 5, 8, 8,\n",
       "       2, 4, 3, 4, 4, 0, 1, 8, 2, 8, 4, 4, 2, 8, 1, 8, 2, 5, 4, 4, 4, 4,\n",
       "       5, 4, 4, 5, 8, 2, 2, 1, 8, 4, 4, 8, 2, 5, 2, 5, 2, 5, 4, 8, 5, 5,\n",
       "       5, 4, 4, 2, 4, 2, 4, 5, 5, 4, 1, 4, 5, 5, 8, 2, 4, 2, 4, 2, 3, 4,\n",
       "       4, 1, 4, 1, 8, 5, 1, 4, 8, 4, 1, 8, 4, 8, 2, 1, 5, 4, 5, 5, 5, 8,\n",
       "       5, 1, 5, 5, 4, 4, 2, 1, 1, 4, 1, 5, 8, 5, 4, 8, 1, 8, 8, 5, 4, 4,\n",
       "       2, 1, 2, 5, 5, 5, 1, 8, 8, 4, 1, 4, 5, 6, 5, 1, 8, 8, 8, 4, 8, 1,\n",
       "       2, 2, 1, 1, 1, 8, 4, 2, 5, 8, 5, 7, 2, 5, 8, 5, 4, 1, 4, 8, 4, 2,\n",
       "       4, 5, 2, 2, 5, 5, 1, 8, 8, 5, 5, 5, 4, 5, 2, 2, 8, 1, 2, 5, 5, 6,\n",
       "       2, 2, 4, 2, 4, 5, 8, 1, 1, 5, 5, 5, 5, 1, 5, 4, 4, 5, 1, 5, 5, 5,\n",
       "       5, 4, 4, 5, 5, 1, 5, 5, 0])"
      ]
     },
     "execution_count": 29,
     "metadata": {},
     "output_type": "execute_result"
    }
   ],
   "execution_count": 29
  },
  {
   "metadata": {
    "ExecuteTime": {
     "end_time": "2024-12-29T11:36:58.558619600Z",
     "start_time": "2024-12-12T10:36:03.542804Z"
    }
   },
   "cell_type": "code",
   "source": "input_shape = X_train.shape[1:]",
   "id": "7025182396306afd",
   "outputs": [],
   "execution_count": 58
  },
  {
   "metadata": {
    "ExecuteTime": {
     "end_time": "2024-12-29T11:36:58.559582600Z",
     "start_time": "2024-12-12T10:36:04.019550Z"
    }
   },
   "cell_type": "code",
   "source": "X_train.shape",
   "id": "ff656ed55d52fef1",
   "outputs": [
    {
     "data": {
      "text/plain": [
       "(229, 3600, 3)"
      ]
     },
     "execution_count": 59,
     "metadata": {},
     "output_type": "execute_result"
    }
   ],
   "execution_count": 59
  },
  {
   "metadata": {
    "ExecuteTime": {
     "end_time": "2024-12-29T11:37:12.319222Z",
     "start_time": "2024-12-29T11:37:12.198222Z"
    }
   },
   "cell_type": "code",
   "source": [
    "from tensorflow.keras.models import Sequential\n",
    "from tensorflow.keras.layers import Input, Conv1D, MaxPooling1D, Flatten, Dense, Dropout\n",
    "\n",
    "model = Sequential([\n",
    "    Input(shape=(X_train.shape[1], X_train.shape[2])),\n",
    "    Conv1D(filters=64, kernel_size=3, activation='relu'),\n",
    "    MaxPooling1D(pool_size=2),\n",
    "    Dropout(0.3),\n",
    "    Conv1D(filters=128, kernel_size=3, activation='relu'),\n",
    "    MaxPooling1D(pool_size=2),\n",
    "    Conv1D(filters=256, kernel_size=3, activation='relu'),  # Więcej filtrów\n",
    "    MaxPooling1D(pool_size=2),\n",
    "    Flatten(),\n",
    "    Dense(256, activation='relu'),  # Więcej neuronów\n",
    "    Dropout(0.4),\n",
    "    Dense(18, activation='softmax')  # 18 klas\n",
    "])\n"
   ],
   "id": "200ec55e896f36be",
   "outputs": [],
   "execution_count": 70
  },
  {
   "metadata": {
    "ExecuteTime": {
     "end_time": "2024-12-29T11:36:58.559582600Z",
     "start_time": "2024-12-12T10:44:36.054165Z"
    }
   },
   "cell_type": "code",
   "source": [
    "# Kompilacja modelu\n",
    "model.compile(optimizer='adam', loss='categorical_crossentropy', metrics=['accuracy']) #categorical crossentropy jest dla klasyfiakcji wieloklasowej\n",
    "\n",
    "# Trenowanie modelu\n",
    "history = model.fit(\n",
    "    X_train, y_train,\n",
    "    epochs=30,\n",
    "    batch_size=32,\n",
    "    validation_split=0.2\n",
    ")\n"
   ],
   "id": "e78e425e231d5957",
   "outputs": [
    {
     "name": "stdout",
     "output_type": "stream",
     "text": [
      "Epoch 1/50\n",
      "\u001B[1m649/649\u001B[0m \u001B[32m━━━━━━━━━━━━━━━━━━━━\u001B[0m\u001B[37m\u001B[0m \u001B[1m13s\u001B[0m 15ms/step - accuracy: 0.7771 - loss: 0.5529 - val_accuracy: 0.8385 - val_loss: 0.4479\n",
      "Epoch 2/50\n",
      "\u001B[1m649/649\u001B[0m \u001B[32m━━━━━━━━━━━━━━━━━━━━\u001B[0m\u001B[37m\u001B[0m \u001B[1m10s\u001B[0m 15ms/step - accuracy: 0.7830 - loss: 0.5426 - val_accuracy: 0.8321 - val_loss: 0.4622\n",
      "Epoch 3/50\n",
      "\u001B[1m649/649\u001B[0m \u001B[32m━━━━━━━━━━━━━━━━━━━━\u001B[0m\u001B[37m\u001B[0m \u001B[1m10s\u001B[0m 15ms/step - accuracy: 0.7862 - loss: 0.5307 - val_accuracy: 0.8078 - val_loss: 0.5145\n",
      "Epoch 4/50\n",
      "\u001B[1m649/649\u001B[0m \u001B[32m━━━━━━━━━━━━━━━━━━━━\u001B[0m\u001B[37m\u001B[0m \u001B[1m10s\u001B[0m 15ms/step - accuracy: 0.7935 - loss: 0.5165 - val_accuracy: 0.8319 - val_loss: 0.4473\n",
      "Epoch 5/50\n",
      "\u001B[1m649/649\u001B[0m \u001B[32m━━━━━━━━━━━━━━━━━━━━\u001B[0m\u001B[37m\u001B[0m \u001B[1m9s\u001B[0m 15ms/step - accuracy: 0.7939 - loss: 0.5118 - val_accuracy: 0.8626 - val_loss: 0.4294\n",
      "Epoch 6/50\n",
      "\u001B[1m649/649\u001B[0m \u001B[32m━━━━━━━━━━━━━━━━━━━━\u001B[0m\u001B[37m\u001B[0m \u001B[1m10s\u001B[0m 15ms/step - accuracy: 0.7980 - loss: 0.5054 - val_accuracy: 0.7712 - val_loss: 0.6059\n",
      "Epoch 7/50\n",
      "\u001B[1m649/649\u001B[0m \u001B[32m━━━━━━━━━━━━━━━━━━━━\u001B[0m\u001B[37m\u001B[0m \u001B[1m10s\u001B[0m 16ms/step - accuracy: 0.8113 - loss: 0.4692 - val_accuracy: 0.8273 - val_loss: 0.4962\n",
      "Epoch 8/50\n",
      "\u001B[1m649/649\u001B[0m \u001B[32m━━━━━━━━━━━━━━━━━━━━\u001B[0m\u001B[37m\u001B[0m \u001B[1m10s\u001B[0m 16ms/step - accuracy: 0.7965 - loss: 0.5057 - val_accuracy: 0.8500 - val_loss: 0.4328\n",
      "Epoch 9/50\n",
      "\u001B[1m649/649\u001B[0m \u001B[32m━━━━━━━━━━━━━━━━━━━━\u001B[0m\u001B[37m\u001B[0m \u001B[1m12s\u001B[0m 18ms/step - accuracy: 0.8125 - loss: 0.4648 - val_accuracy: 0.8574 - val_loss: 0.3983\n",
      "Epoch 10/50\n",
      "\u001B[1m649/649\u001B[0m \u001B[32m━━━━━━━━━━━━━━━━━━━━\u001B[0m\u001B[37m\u001B[0m \u001B[1m12s\u001B[0m 18ms/step - accuracy: 0.8188 - loss: 0.4550 - val_accuracy: 0.7870 - val_loss: 0.5383\n",
      "Epoch 11/50\n",
      "\u001B[1m649/649\u001B[0m \u001B[32m━━━━━━━━━━━━━━━━━━━━\u001B[0m\u001B[37m\u001B[0m \u001B[1m11s\u001B[0m 17ms/step - accuracy: 0.8170 - loss: 0.4582 - val_accuracy: 0.8098 - val_loss: 0.5172\n",
      "Epoch 12/50\n",
      "\u001B[1m649/649\u001B[0m \u001B[32m━━━━━━━━━━━━━━━━━━━━\u001B[0m\u001B[37m\u001B[0m \u001B[1m12s\u001B[0m 18ms/step - accuracy: 0.8085 - loss: 0.4771 - val_accuracy: 0.7988 - val_loss: 0.5464\n",
      "Epoch 13/50\n",
      "\u001B[1m649/649\u001B[0m \u001B[32m━━━━━━━━━━━━━━━━━━━━\u001B[0m\u001B[37m\u001B[0m \u001B[1m11s\u001B[0m 18ms/step - accuracy: 0.8186 - loss: 0.4483 - val_accuracy: 0.8090 - val_loss: 0.5526\n",
      "Epoch 14/50\n",
      "\u001B[1m649/649\u001B[0m \u001B[32m━━━━━━━━━━━━━━━━━━━━\u001B[0m\u001B[37m\u001B[0m \u001B[1m12s\u001B[0m 18ms/step - accuracy: 0.8234 - loss: 0.4326 - val_accuracy: 0.8234 - val_loss: 0.5084\n",
      "Epoch 15/50\n",
      "\u001B[1m649/649\u001B[0m \u001B[32m━━━━━━━━━━━━━━━━━━━━\u001B[0m\u001B[37m\u001B[0m \u001B[1m12s\u001B[0m 19ms/step - accuracy: 0.8273 - loss: 0.4343 - val_accuracy: 0.7689 - val_loss: 0.6301\n",
      "Epoch 16/50\n",
      "\u001B[1m649/649\u001B[0m \u001B[32m━━━━━━━━━━━━━━━━━━━━\u001B[0m\u001B[37m\u001B[0m \u001B[1m11s\u001B[0m 16ms/step - accuracy: 0.8329 - loss: 0.4209 - val_accuracy: 0.7423 - val_loss: 0.8401\n",
      "Epoch 17/50\n",
      "\u001B[1m649/649\u001B[0m \u001B[32m━━━━━━━━━━━━━━━━━━━━\u001B[0m\u001B[37m\u001B[0m \u001B[1m11s\u001B[0m 17ms/step - accuracy: 0.8276 - loss: 0.4299 - val_accuracy: 0.8028 - val_loss: 0.5647\n",
      "Epoch 18/50\n",
      "\u001B[1m649/649\u001B[0m \u001B[32m━━━━━━━━━━━━━━━━━━━━\u001B[0m\u001B[37m\u001B[0m \u001B[1m11s\u001B[0m 17ms/step - accuracy: 0.8311 - loss: 0.4239 - val_accuracy: 0.7683 - val_loss: 0.6189\n",
      "Epoch 19/50\n",
      "\u001B[1m649/649\u001B[0m \u001B[32m━━━━━━━━━━━━━━━━━━━━\u001B[0m\u001B[37m\u001B[0m \u001B[1m13s\u001B[0m 20ms/step - accuracy: 0.8364 - loss: 0.4197 - val_accuracy: 0.6906 - val_loss: 0.9922\n",
      "Epoch 20/50\n",
      "\u001B[1m649/649\u001B[0m \u001B[32m━━━━━━━━━━━━━━━━━━━━\u001B[0m\u001B[37m\u001B[0m \u001B[1m11s\u001B[0m 17ms/step - accuracy: 0.8410 - loss: 0.3874 - val_accuracy: 0.7689 - val_loss: 0.7624\n",
      "Epoch 21/50\n",
      "\u001B[1m649/649\u001B[0m \u001B[32m━━━━━━━━━━━━━━━━━━━━\u001B[0m\u001B[37m\u001B[0m \u001B[1m10s\u001B[0m 15ms/step - accuracy: 0.8345 - loss: 0.4154 - val_accuracy: 0.7781 - val_loss: 0.6392\n",
      "Epoch 22/50\n",
      "\u001B[1m649/649\u001B[0m \u001B[32m━━━━━━━━━━━━━━━━━━━━\u001B[0m\u001B[37m\u001B[0m \u001B[1m10s\u001B[0m 15ms/step - accuracy: 0.8456 - loss: 0.3809 - val_accuracy: 0.7336 - val_loss: 0.8268\n",
      "Epoch 23/50\n",
      "\u001B[1m649/649\u001B[0m \u001B[32m━━━━━━━━━━━━━━━━━━━━\u001B[0m\u001B[37m\u001B[0m \u001B[1m9s\u001B[0m 15ms/step - accuracy: 0.8408 - loss: 0.3968 - val_accuracy: 0.7778 - val_loss: 0.6652\n",
      "Epoch 24/50\n",
      "\u001B[1m649/649\u001B[0m \u001B[32m━━━━━━━━━━━━━━━━━━━━\u001B[0m\u001B[37m\u001B[0m \u001B[1m11s\u001B[0m 18ms/step - accuracy: 0.8559 - loss: 0.3668 - val_accuracy: 0.7103 - val_loss: 0.9887\n",
      "Epoch 25/50\n",
      "\u001B[1m649/649\u001B[0m \u001B[32m━━━━━━━━━━━━━━━━━━━━\u001B[0m\u001B[37m\u001B[0m \u001B[1m10s\u001B[0m 16ms/step - accuracy: 0.8501 - loss: 0.3742 - val_accuracy: 0.7714 - val_loss: 0.6855\n",
      "Epoch 26/50\n",
      "\u001B[1m649/649\u001B[0m \u001B[32m━━━━━━━━━━━━━━━━━━━━\u001B[0m\u001B[37m\u001B[0m \u001B[1m10s\u001B[0m 16ms/step - accuracy: 0.8447 - loss: 0.3877 - val_accuracy: 0.7172 - val_loss: 0.8754\n",
      "Epoch 27/50\n",
      "\u001B[1m649/649\u001B[0m \u001B[32m━━━━━━━━━━━━━━━━━━━━\u001B[0m\u001B[37m\u001B[0m \u001B[1m11s\u001B[0m 17ms/step - accuracy: 0.8507 - loss: 0.3718 - val_accuracy: 0.7912 - val_loss: 0.6189\n",
      "Epoch 28/50\n",
      "\u001B[1m649/649\u001B[0m \u001B[32m━━━━━━━━━━━━━━━━━━━━\u001B[0m\u001B[37m\u001B[0m \u001B[1m10s\u001B[0m 15ms/step - accuracy: 0.8544 - loss: 0.3572 - val_accuracy: 0.7458 - val_loss: 0.6737\n",
      "Epoch 29/50\n",
      "\u001B[1m649/649\u001B[0m \u001B[32m━━━━━━━━━━━━━━━━━━━━\u001B[0m\u001B[37m\u001B[0m \u001B[1m10s\u001B[0m 15ms/step - accuracy: 0.8523 - loss: 0.3808 - val_accuracy: 0.7494 - val_loss: 0.7914\n",
      "Epoch 30/50\n",
      "\u001B[1m649/649\u001B[0m \u001B[32m━━━━━━━━━━━━━━━━━━━━\u001B[0m\u001B[37m\u001B[0m \u001B[1m10s\u001B[0m 16ms/step - accuracy: 0.8520 - loss: 0.3706 - val_accuracy: 0.7161 - val_loss: 0.9125\n",
      "Epoch 31/50\n",
      "\u001B[1m649/649\u001B[0m \u001B[32m━━━━━━━━━━━━━━━━━━━━\u001B[0m\u001B[37m\u001B[0m \u001B[1m10s\u001B[0m 16ms/step - accuracy: 0.8646 - loss: 0.3403 - val_accuracy: 0.8180 - val_loss: 0.5201\n",
      "Epoch 32/50\n",
      "\u001B[1m649/649\u001B[0m \u001B[32m━━━━━━━━━━━━━━━━━━━━\u001B[0m\u001B[37m\u001B[0m \u001B[1m10s\u001B[0m 15ms/step - accuracy: 0.8508 - loss: 0.3667 - val_accuracy: 0.6920 - val_loss: 1.2781\n",
      "Epoch 33/50\n",
      "\u001B[1m649/649\u001B[0m \u001B[32m━━━━━━━━━━━━━━━━━━━━\u001B[0m\u001B[37m\u001B[0m \u001B[1m11s\u001B[0m 17ms/step - accuracy: 0.8497 - loss: 0.3889 - val_accuracy: 0.8157 - val_loss: 0.5822\n",
      "Epoch 34/50\n",
      "\u001B[1m649/649\u001B[0m \u001B[32m━━━━━━━━━━━━━━━━━━━━\u001B[0m\u001B[37m\u001B[0m \u001B[1m11s\u001B[0m 17ms/step - accuracy: 0.8584 - loss: 0.3642 - val_accuracy: 0.7706 - val_loss: 0.7580\n",
      "Epoch 35/50\n",
      "\u001B[1m649/649\u001B[0m \u001B[32m━━━━━━━━━━━━━━━━━━━━\u001B[0m\u001B[37m\u001B[0m \u001B[1m10s\u001B[0m 16ms/step - accuracy: 0.8679 - loss: 0.3348 - val_accuracy: 0.6939 - val_loss: 1.2642\n",
      "Epoch 36/50\n",
      "\u001B[1m649/649\u001B[0m \u001B[32m━━━━━━━━━━━━━━━━━━━━\u001B[0m\u001B[37m\u001B[0m \u001B[1m11s\u001B[0m 17ms/step - accuracy: 0.8524 - loss: 0.3726 - val_accuracy: 0.7914 - val_loss: 0.6619\n",
      "Epoch 37/50\n",
      "\u001B[1m649/649\u001B[0m \u001B[32m━━━━━━━━━━━━━━━━━━━━\u001B[0m\u001B[37m\u001B[0m \u001B[1m11s\u001B[0m 17ms/step - accuracy: 0.8639 - loss: 0.3392 - val_accuracy: 0.6901 - val_loss: 1.2769\n",
      "Epoch 38/50\n",
      "\u001B[1m649/649\u001B[0m \u001B[32m━━━━━━━━━━━━━━━━━━━━\u001B[0m\u001B[37m\u001B[0m \u001B[1m11s\u001B[0m 17ms/step - accuracy: 0.8735 - loss: 0.3229 - val_accuracy: 0.7367 - val_loss: 1.0003\n",
      "Epoch 39/50\n",
      "\u001B[1m649/649\u001B[0m \u001B[32m━━━━━━━━━━━━━━━━━━━━\u001B[0m\u001B[37m\u001B[0m \u001B[1m12s\u001B[0m 18ms/step - accuracy: 0.8698 - loss: 0.3311 - val_accuracy: 0.7675 - val_loss: 0.8033\n",
      "Epoch 40/50\n",
      "\u001B[1m649/649\u001B[0m \u001B[32m━━━━━━━━━━━━━━━━━━━━\u001B[0m\u001B[37m\u001B[0m \u001B[1m12s\u001B[0m 19ms/step - accuracy: 0.8668 - loss: 0.3319 - val_accuracy: 0.7938 - val_loss: 0.7244\n",
      "Epoch 41/50\n",
      "\u001B[1m649/649\u001B[0m \u001B[32m━━━━━━━━━━━━━━━━━━━━\u001B[0m\u001B[37m\u001B[0m \u001B[1m10s\u001B[0m 16ms/step - accuracy: 0.8675 - loss: 0.3291 - val_accuracy: 0.6995 - val_loss: 1.0946\n",
      "Epoch 42/50\n",
      "\u001B[1m649/649\u001B[0m \u001B[32m━━━━━━━━━━━━━━━━━━━━\u001B[0m\u001B[37m\u001B[0m \u001B[1m11s\u001B[0m 17ms/step - accuracy: 0.8662 - loss: 0.3352 - val_accuracy: 0.7205 - val_loss: 1.0365\n",
      "Epoch 43/50\n",
      "\u001B[1m649/649\u001B[0m \u001B[32m━━━━━━━━━━━━━━━━━━━━\u001B[0m\u001B[37m\u001B[0m \u001B[1m12s\u001B[0m 19ms/step - accuracy: 0.8691 - loss: 0.3232 - val_accuracy: 0.7103 - val_loss: 1.0922\n",
      "Epoch 44/50\n",
      "\u001B[1m649/649\u001B[0m \u001B[32m━━━━━━━━━━━━━━━━━━━━\u001B[0m\u001B[37m\u001B[0m \u001B[1m11s\u001B[0m 17ms/step - accuracy: 0.8721 - loss: 0.3180 - val_accuracy: 0.7708 - val_loss: 0.8497\n",
      "Epoch 45/50\n",
      "\u001B[1m649/649\u001B[0m \u001B[32m━━━━━━━━━━━━━━━━━━━━\u001B[0m\u001B[37m\u001B[0m \u001B[1m12s\u001B[0m 18ms/step - accuracy: 0.8731 - loss: 0.3172 - val_accuracy: 0.7251 - val_loss: 0.9905\n",
      "Epoch 46/50\n",
      "\u001B[1m649/649\u001B[0m \u001B[32m━━━━━━━━━━━━━━━━━━━━\u001B[0m\u001B[37m\u001B[0m \u001B[1m11s\u001B[0m 17ms/step - accuracy: 0.8803 - loss: 0.2990 - val_accuracy: 0.7419 - val_loss: 0.9069\n",
      "Epoch 47/50\n",
      "\u001B[1m649/649\u001B[0m \u001B[32m━━━━━━━━━━━━━━━━━━━━\u001B[0m\u001B[37m\u001B[0m \u001B[1m11s\u001B[0m 17ms/step - accuracy: 0.8813 - loss: 0.2849 - val_accuracy: 0.7731 - val_loss: 0.9930\n",
      "Epoch 48/50\n",
      "\u001B[1m649/649\u001B[0m \u001B[32m━━━━━━━━━━━━━━━━━━━━\u001B[0m\u001B[37m\u001B[0m \u001B[1m11s\u001B[0m 17ms/step - accuracy: 0.8741 - loss: 0.3144 - val_accuracy: 0.7419 - val_loss: 1.0484\n",
      "Epoch 49/50\n",
      "\u001B[1m649/649\u001B[0m \u001B[32m━━━━━━━━━━━━━━━━━━━━\u001B[0m\u001B[37m\u001B[0m \u001B[1m9s\u001B[0m 14ms/step - accuracy: 0.8761 - loss: 0.3047 - val_accuracy: 0.7922 - val_loss: 0.7152\n",
      "Epoch 50/50\n",
      "\u001B[1m649/649\u001B[0m \u001B[32m━━━━━━━━━━━━━━━━━━━━\u001B[0m\u001B[37m\u001B[0m \u001B[1m9s\u001B[0m 14ms/step - accuracy: 0.8744 - loss: 0.3217 - val_accuracy: 0.7012 - val_loss: 1.3014\n"
     ]
    }
   ],
   "execution_count": 71
  },
  {
   "metadata": {
    "ExecuteTime": {
     "end_time": "2024-12-29T11:36:58.560579900Z",
     "start_time": "2024-12-12T10:54:48.514670Z"
    }
   },
   "cell_type": "code",
   "source": [
    "# Ewaluacja modelu\n",
    "test_loss, test_acc = model.evaluate(X_test, y_test)\n",
    "print(f\"Test Accuracy: {test_acc:.2f}\")\n",
    "\n",
    "# Podsumowanie modelu\n",
    "model.summary()"
   ],
   "id": "8ae3da7d0bc910ec",
   "outputs": [
    {
     "name": "stdout",
     "output_type": "stream",
     "text": [
      "\u001B[1m203/203\u001B[0m \u001B[32m━━━━━━━━━━━━━━━━━━━━\u001B[0m\u001B[37m\u001B[0m \u001B[1m1s\u001B[0m 4ms/step - accuracy: 0.7010 - loss: 1.2792\n",
      "Test Accuracy: 0.70\n"
     ]
    },
    {
     "data": {
      "text/plain": [
       "\u001B[1mModel: \"sequential_2\"\u001B[0m\n"
      ],
      "text/html": [
       "<pre style=\"white-space:pre;overflow-x:auto;line-height:normal;font-family:Menlo,'DejaVu Sans Mono',consolas,'Courier New',monospace\"><span style=\"font-weight: bold\">Model: \"sequential_2\"</span>\n",
       "</pre>\n"
      ]
     },
     "metadata": {},
     "output_type": "display_data"
    },
    {
     "data": {
      "text/plain": [
       "┏━━━━━━━━━━━━━━━━━━━━━━━━━━━━━━━━━┳━━━━━━━━━━━━━━━━━━━━━━━━┳━━━━━━━━━━━━━━━┓\n",
       "┃\u001B[1m \u001B[0m\u001B[1mLayer (type)                   \u001B[0m\u001B[1m \u001B[0m┃\u001B[1m \u001B[0m\u001B[1mOutput Shape          \u001B[0m\u001B[1m \u001B[0m┃\u001B[1m \u001B[0m\u001B[1m      Param #\u001B[0m\u001B[1m \u001B[0m┃\n",
       "┡━━━━━━━━━━━━━━━━━━━━━━━━━━━━━━━━━╇━━━━━━━━━━━━━━━━━━━━━━━━╇━━━━━━━━━━━━━━━┩\n",
       "│ conv1d_6 (\u001B[38;5;33mConv1D\u001B[0m)               │ (\u001B[38;5;45mNone\u001B[0m, \u001B[38;5;34m88\u001B[0m, \u001B[38;5;34m64\u001B[0m)         │           \u001B[38;5;34m640\u001B[0m │\n",
       "├─────────────────────────────────┼────────────────────────┼───────────────┤\n",
       "│ max_pooling1d_6 (\u001B[38;5;33mMaxPooling1D\u001B[0m)  │ (\u001B[38;5;45mNone\u001B[0m, \u001B[38;5;34m44\u001B[0m, \u001B[38;5;34m64\u001B[0m)         │             \u001B[38;5;34m0\u001B[0m │\n",
       "├─────────────────────────────────┼────────────────────────┼───────────────┤\n",
       "│ dropout_4 (\u001B[38;5;33mDropout\u001B[0m)             │ (\u001B[38;5;45mNone\u001B[0m, \u001B[38;5;34m44\u001B[0m, \u001B[38;5;34m64\u001B[0m)         │             \u001B[38;5;34m0\u001B[0m │\n",
       "├─────────────────────────────────┼────────────────────────┼───────────────┤\n",
       "│ conv1d_7 (\u001B[38;5;33mConv1D\u001B[0m)               │ (\u001B[38;5;45mNone\u001B[0m, \u001B[38;5;34m42\u001B[0m, \u001B[38;5;34m128\u001B[0m)        │        \u001B[38;5;34m24,704\u001B[0m │\n",
       "├─────────────────────────────────┼────────────────────────┼───────────────┤\n",
       "│ max_pooling1d_7 (\u001B[38;5;33mMaxPooling1D\u001B[0m)  │ (\u001B[38;5;45mNone\u001B[0m, \u001B[38;5;34m21\u001B[0m, \u001B[38;5;34m128\u001B[0m)        │             \u001B[38;5;34m0\u001B[0m │\n",
       "├─────────────────────────────────┼────────────────────────┼───────────────┤\n",
       "│ conv1d_8 (\u001B[38;5;33mConv1D\u001B[0m)               │ (\u001B[38;5;45mNone\u001B[0m, \u001B[38;5;34m19\u001B[0m, \u001B[38;5;34m256\u001B[0m)        │        \u001B[38;5;34m98,560\u001B[0m │\n",
       "├─────────────────────────────────┼────────────────────────┼───────────────┤\n",
       "│ max_pooling1d_8 (\u001B[38;5;33mMaxPooling1D\u001B[0m)  │ (\u001B[38;5;45mNone\u001B[0m, \u001B[38;5;34m9\u001B[0m, \u001B[38;5;34m256\u001B[0m)         │             \u001B[38;5;34m0\u001B[0m │\n",
       "├─────────────────────────────────┼────────────────────────┼───────────────┤\n",
       "│ flatten_2 (\u001B[38;5;33mFlatten\u001B[0m)             │ (\u001B[38;5;45mNone\u001B[0m, \u001B[38;5;34m2304\u001B[0m)           │             \u001B[38;5;34m0\u001B[0m │\n",
       "├─────────────────────────────────┼────────────────────────┼───────────────┤\n",
       "│ dense_4 (\u001B[38;5;33mDense\u001B[0m)                 │ (\u001B[38;5;45mNone\u001B[0m, \u001B[38;5;34m256\u001B[0m)            │       \u001B[38;5;34m590,080\u001B[0m │\n",
       "├─────────────────────────────────┼────────────────────────┼───────────────┤\n",
       "│ dropout_5 (\u001B[38;5;33mDropout\u001B[0m)             │ (\u001B[38;5;45mNone\u001B[0m, \u001B[38;5;34m256\u001B[0m)            │             \u001B[38;5;34m0\u001B[0m │\n",
       "├─────────────────────────────────┼────────────────────────┼───────────────┤\n",
       "│ dense_5 (\u001B[38;5;33mDense\u001B[0m)                 │ (\u001B[38;5;45mNone\u001B[0m, \u001B[38;5;34m18\u001B[0m)             │         \u001B[38;5;34m4,626\u001B[0m │\n",
       "└─────────────────────────────────┴────────────────────────┴───────────────┘\n"
      ],
      "text/html": [
       "<pre style=\"white-space:pre;overflow-x:auto;line-height:normal;font-family:Menlo,'DejaVu Sans Mono',consolas,'Courier New',monospace\">┏━━━━━━━━━━━━━━━━━━━━━━━━━━━━━━━━━┳━━━━━━━━━━━━━━━━━━━━━━━━┳━━━━━━━━━━━━━━━┓\n",
       "┃<span style=\"font-weight: bold\"> Layer (type)                    </span>┃<span style=\"font-weight: bold\"> Output Shape           </span>┃<span style=\"font-weight: bold\">       Param # </span>┃\n",
       "┡━━━━━━━━━━━━━━━━━━━━━━━━━━━━━━━━━╇━━━━━━━━━━━━━━━━━━━━━━━━╇━━━━━━━━━━━━━━━┩\n",
       "│ conv1d_6 (<span style=\"color: #0087ff; text-decoration-color: #0087ff\">Conv1D</span>)               │ (<span style=\"color: #00d7ff; text-decoration-color: #00d7ff\">None</span>, <span style=\"color: #00af00; text-decoration-color: #00af00\">88</span>, <span style=\"color: #00af00; text-decoration-color: #00af00\">64</span>)         │           <span style=\"color: #00af00; text-decoration-color: #00af00\">640</span> │\n",
       "├─────────────────────────────────┼────────────────────────┼───────────────┤\n",
       "│ max_pooling1d_6 (<span style=\"color: #0087ff; text-decoration-color: #0087ff\">MaxPooling1D</span>)  │ (<span style=\"color: #00d7ff; text-decoration-color: #00d7ff\">None</span>, <span style=\"color: #00af00; text-decoration-color: #00af00\">44</span>, <span style=\"color: #00af00; text-decoration-color: #00af00\">64</span>)         │             <span style=\"color: #00af00; text-decoration-color: #00af00\">0</span> │\n",
       "├─────────────────────────────────┼────────────────────────┼───────────────┤\n",
       "│ dropout_4 (<span style=\"color: #0087ff; text-decoration-color: #0087ff\">Dropout</span>)             │ (<span style=\"color: #00d7ff; text-decoration-color: #00d7ff\">None</span>, <span style=\"color: #00af00; text-decoration-color: #00af00\">44</span>, <span style=\"color: #00af00; text-decoration-color: #00af00\">64</span>)         │             <span style=\"color: #00af00; text-decoration-color: #00af00\">0</span> │\n",
       "├─────────────────────────────────┼────────────────────────┼───────────────┤\n",
       "│ conv1d_7 (<span style=\"color: #0087ff; text-decoration-color: #0087ff\">Conv1D</span>)               │ (<span style=\"color: #00d7ff; text-decoration-color: #00d7ff\">None</span>, <span style=\"color: #00af00; text-decoration-color: #00af00\">42</span>, <span style=\"color: #00af00; text-decoration-color: #00af00\">128</span>)        │        <span style=\"color: #00af00; text-decoration-color: #00af00\">24,704</span> │\n",
       "├─────────────────────────────────┼────────────────────────┼───────────────┤\n",
       "│ max_pooling1d_7 (<span style=\"color: #0087ff; text-decoration-color: #0087ff\">MaxPooling1D</span>)  │ (<span style=\"color: #00d7ff; text-decoration-color: #00d7ff\">None</span>, <span style=\"color: #00af00; text-decoration-color: #00af00\">21</span>, <span style=\"color: #00af00; text-decoration-color: #00af00\">128</span>)        │             <span style=\"color: #00af00; text-decoration-color: #00af00\">0</span> │\n",
       "├─────────────────────────────────┼────────────────────────┼───────────────┤\n",
       "│ conv1d_8 (<span style=\"color: #0087ff; text-decoration-color: #0087ff\">Conv1D</span>)               │ (<span style=\"color: #00d7ff; text-decoration-color: #00d7ff\">None</span>, <span style=\"color: #00af00; text-decoration-color: #00af00\">19</span>, <span style=\"color: #00af00; text-decoration-color: #00af00\">256</span>)        │        <span style=\"color: #00af00; text-decoration-color: #00af00\">98,560</span> │\n",
       "├─────────────────────────────────┼────────────────────────┼───────────────┤\n",
       "│ max_pooling1d_8 (<span style=\"color: #0087ff; text-decoration-color: #0087ff\">MaxPooling1D</span>)  │ (<span style=\"color: #00d7ff; text-decoration-color: #00d7ff\">None</span>, <span style=\"color: #00af00; text-decoration-color: #00af00\">9</span>, <span style=\"color: #00af00; text-decoration-color: #00af00\">256</span>)         │             <span style=\"color: #00af00; text-decoration-color: #00af00\">0</span> │\n",
       "├─────────────────────────────────┼────────────────────────┼───────────────┤\n",
       "│ flatten_2 (<span style=\"color: #0087ff; text-decoration-color: #0087ff\">Flatten</span>)             │ (<span style=\"color: #00d7ff; text-decoration-color: #00d7ff\">None</span>, <span style=\"color: #00af00; text-decoration-color: #00af00\">2304</span>)           │             <span style=\"color: #00af00; text-decoration-color: #00af00\">0</span> │\n",
       "├─────────────────────────────────┼────────────────────────┼───────────────┤\n",
       "│ dense_4 (<span style=\"color: #0087ff; text-decoration-color: #0087ff\">Dense</span>)                 │ (<span style=\"color: #00d7ff; text-decoration-color: #00d7ff\">None</span>, <span style=\"color: #00af00; text-decoration-color: #00af00\">256</span>)            │       <span style=\"color: #00af00; text-decoration-color: #00af00\">590,080</span> │\n",
       "├─────────────────────────────────┼────────────────────────┼───────────────┤\n",
       "│ dropout_5 (<span style=\"color: #0087ff; text-decoration-color: #0087ff\">Dropout</span>)             │ (<span style=\"color: #00d7ff; text-decoration-color: #00d7ff\">None</span>, <span style=\"color: #00af00; text-decoration-color: #00af00\">256</span>)            │             <span style=\"color: #00af00; text-decoration-color: #00af00\">0</span> │\n",
       "├─────────────────────────────────┼────────────────────────┼───────────────┤\n",
       "│ dense_5 (<span style=\"color: #0087ff; text-decoration-color: #0087ff\">Dense</span>)                 │ (<span style=\"color: #00d7ff; text-decoration-color: #00d7ff\">None</span>, <span style=\"color: #00af00; text-decoration-color: #00af00\">18</span>)             │         <span style=\"color: #00af00; text-decoration-color: #00af00\">4,626</span> │\n",
       "└─────────────────────────────────┴────────────────────────┴───────────────┘\n",
       "</pre>\n"
      ]
     },
     "metadata": {},
     "output_type": "display_data"
    },
    {
     "data": {
      "text/plain": [
       "\u001B[1m Total params: \u001B[0m\u001B[38;5;34m2,155,832\u001B[0m (8.22 MB)\n"
      ],
      "text/html": [
       "<pre style=\"white-space:pre;overflow-x:auto;line-height:normal;font-family:Menlo,'DejaVu Sans Mono',consolas,'Courier New',monospace\"><span style=\"font-weight: bold\"> Total params: </span><span style=\"color: #00af00; text-decoration-color: #00af00\">2,155,832</span> (8.22 MB)\n",
       "</pre>\n"
      ]
     },
     "metadata": {},
     "output_type": "display_data"
    },
    {
     "data": {
      "text/plain": [
       "\u001B[1m Trainable params: \u001B[0m\u001B[38;5;34m718,610\u001B[0m (2.74 MB)\n"
      ],
      "text/html": [
       "<pre style=\"white-space:pre;overflow-x:auto;line-height:normal;font-family:Menlo,'DejaVu Sans Mono',consolas,'Courier New',monospace\"><span style=\"font-weight: bold\"> Trainable params: </span><span style=\"color: #00af00; text-decoration-color: #00af00\">718,610</span> (2.74 MB)\n",
       "</pre>\n"
      ]
     },
     "metadata": {},
     "output_type": "display_data"
    },
    {
     "data": {
      "text/plain": [
       "\u001B[1m Non-trainable params: \u001B[0m\u001B[38;5;34m0\u001B[0m (0.00 B)\n"
      ],
      "text/html": [
       "<pre style=\"white-space:pre;overflow-x:auto;line-height:normal;font-family:Menlo,'DejaVu Sans Mono',consolas,'Courier New',monospace\"><span style=\"font-weight: bold\"> Non-trainable params: </span><span style=\"color: #00af00; text-decoration-color: #00af00\">0</span> (0.00 B)\n",
       "</pre>\n"
      ]
     },
     "metadata": {},
     "output_type": "display_data"
    },
    {
     "data": {
      "text/plain": [
       "\u001B[1m Optimizer params: \u001B[0m\u001B[38;5;34m1,437,222\u001B[0m (5.48 MB)\n"
      ],
      "text/html": [
       "<pre style=\"white-space:pre;overflow-x:auto;line-height:normal;font-family:Menlo,'DejaVu Sans Mono',consolas,'Courier New',monospace\"><span style=\"font-weight: bold\"> Optimizer params: </span><span style=\"color: #00af00; text-decoration-color: #00af00\">1,437,222</span> (5.48 MB)\n",
       "</pre>\n"
      ]
     },
     "metadata": {},
     "output_type": "display_data"
    }
   ],
   "execution_count": 74
  },
  {
   "metadata": {},
   "cell_type": "markdown",
   "source": "# Drugi model",
   "id": "4e6c158c2b8d3669"
  },
  {
   "metadata": {
    "ExecuteTime": {
     "end_time": "2024-12-29T11:36:58.561602200Z",
     "start_time": "2024-12-12T11:23:27.700765Z"
    }
   },
   "cell_type": "code",
   "source": "",
   "id": "a036702aeec212f3",
   "outputs": [],
   "execution_count": 85
  },
  {
   "metadata": {
    "ExecuteTime": {
     "end_time": "2024-12-29T11:36:58.567587Z",
     "start_time": "2024-12-12T11:50:24.181305Z"
    }
   },
   "cell_type": "code",
   "source": [
    "from tensorflow.keras.models import Sequential\n",
    "from tensorflow.keras.layers import Conv1D, MaxPooling1D, Flatten, Dense, Dropout\n",
    "\n",
    "# Definicja modelu\n",
    "model = Sequential([\n",
    "    Input(shape=(X_train.shape[1], X_train.shape[2])),\n",
    "    # Pierwsza warstwa konwolucyjna\n",
    "    Conv1D(filters=32, kernel_size=5, activation='relu'),\n",
    "    MaxPooling1D(pool_size=2),\n",
    "\n",
    "    # Druga warstwa konwolucyjna\n",
    "    Conv1D(filters=64, kernel_size=10, activation='relu'),\n",
    "    MaxPooling1D(pool_size=2),\n",
    "\n",
    "    # Trzecia warstwa konwolucyjna\n",
    "    Conv1D(filters=128, kernel_size=15, activation='relu'),\n",
    "    MaxPooling1D(pool_size=2),\n",
    "\n",
    "    # Spłaszczenie danych\n",
    "    Flatten(),\n",
    "\n",
    "    # Warstwy Dense\n",
    "    Dense(128, activation='relu'),\n",
    "    Dropout(0.5),  # Zapobieganie przeuczeniu\n",
    "    Dense(64, activation='relu'),\n",
    "\n",
    "    # Warstwa wyjściowa\n",
    "    Dense(18, activation='softmax')\n",
    "])"
   ],
   "id": "4328b71a9b22ceb2",
   "outputs": [],
   "execution_count": 112
  },
  {
   "metadata": {
    "ExecuteTime": {
     "end_time": "2024-12-29T11:36:58.568584700Z",
     "start_time": "2024-12-12T11:50:25.153709Z"
    }
   },
   "cell_type": "code",
   "source": [
    "\n",
    "# Kompilacja modelu\n",
    "model.compile(optimizer='adam', loss='categorical_crossentropy', metrics=['accuracy'])\n",
    "\n",
    "# Podsumowanie modelu\n",
    "model.summary()\n"
   ],
   "id": "4b9de7a335bcb5f1",
   "outputs": [
    {
     "data": {
      "text/plain": [
       "\u001B[1mModel: \"sequential_5\"\u001B[0m\n"
      ],
      "text/html": [
       "<pre style=\"white-space:pre;overflow-x:auto;line-height:normal;font-family:Menlo,'DejaVu Sans Mono',consolas,'Courier New',monospace\"><span style=\"font-weight: bold\">Model: \"sequential_5\"</span>\n",
       "</pre>\n"
      ]
     },
     "metadata": {},
     "output_type": "display_data"
    },
    {
     "data": {
      "text/plain": [
       "┏━━━━━━━━━━━━━━━━━━━━━━━━━━━━━━━━━┳━━━━━━━━━━━━━━━━━━━━━━━━┳━━━━━━━━━━━━━━━┓\n",
       "┃\u001B[1m \u001B[0m\u001B[1mLayer (type)                   \u001B[0m\u001B[1m \u001B[0m┃\u001B[1m \u001B[0m\u001B[1mOutput Shape          \u001B[0m\u001B[1m \u001B[0m┃\u001B[1m \u001B[0m\u001B[1m      Param #\u001B[0m\u001B[1m \u001B[0m┃\n",
       "┡━━━━━━━━━━━━━━━━━━━━━━━━━━━━━━━━━╇━━━━━━━━━━━━━━━━━━━━━━━━╇━━━━━━━━━━━━━━━┩\n",
       "│ conv1d_15 (\u001B[38;5;33mConv1D\u001B[0m)              │ (\u001B[38;5;45mNone\u001B[0m, \u001B[38;5;34m86\u001B[0m, \u001B[38;5;34m32\u001B[0m)         │           \u001B[38;5;34m512\u001B[0m │\n",
       "├─────────────────────────────────┼────────────────────────┼───────────────┤\n",
       "│ max_pooling1d_15 (\u001B[38;5;33mMaxPooling1D\u001B[0m) │ (\u001B[38;5;45mNone\u001B[0m, \u001B[38;5;34m43\u001B[0m, \u001B[38;5;34m32\u001B[0m)         │             \u001B[38;5;34m0\u001B[0m │\n",
       "├─────────────────────────────────┼────────────────────────┼───────────────┤\n",
       "│ conv1d_16 (\u001B[38;5;33mConv1D\u001B[0m)              │ (\u001B[38;5;45mNone\u001B[0m, \u001B[38;5;34m34\u001B[0m, \u001B[38;5;34m64\u001B[0m)         │        \u001B[38;5;34m20,544\u001B[0m │\n",
       "├─────────────────────────────────┼────────────────────────┼───────────────┤\n",
       "│ max_pooling1d_16 (\u001B[38;5;33mMaxPooling1D\u001B[0m) │ (\u001B[38;5;45mNone\u001B[0m, \u001B[38;5;34m17\u001B[0m, \u001B[38;5;34m64\u001B[0m)         │             \u001B[38;5;34m0\u001B[0m │\n",
       "├─────────────────────────────────┼────────────────────────┼───────────────┤\n",
       "│ conv1d_17 (\u001B[38;5;33mConv1D\u001B[0m)              │ (\u001B[38;5;45mNone\u001B[0m, \u001B[38;5;34m3\u001B[0m, \u001B[38;5;34m128\u001B[0m)         │       \u001B[38;5;34m123,008\u001B[0m │\n",
       "├─────────────────────────────────┼────────────────────────┼───────────────┤\n",
       "│ max_pooling1d_17 (\u001B[38;5;33mMaxPooling1D\u001B[0m) │ (\u001B[38;5;45mNone\u001B[0m, \u001B[38;5;34m1\u001B[0m, \u001B[38;5;34m128\u001B[0m)         │             \u001B[38;5;34m0\u001B[0m │\n",
       "├─────────────────────────────────┼────────────────────────┼───────────────┤\n",
       "│ flatten_5 (\u001B[38;5;33mFlatten\u001B[0m)             │ (\u001B[38;5;45mNone\u001B[0m, \u001B[38;5;34m128\u001B[0m)            │             \u001B[38;5;34m0\u001B[0m │\n",
       "├─────────────────────────────────┼────────────────────────┼───────────────┤\n",
       "│ dense_12 (\u001B[38;5;33mDense\u001B[0m)                │ (\u001B[38;5;45mNone\u001B[0m, \u001B[38;5;34m128\u001B[0m)            │        \u001B[38;5;34m16,512\u001B[0m │\n",
       "├─────────────────────────────────┼────────────────────────┼───────────────┤\n",
       "│ dropout_8 (\u001B[38;5;33mDropout\u001B[0m)             │ (\u001B[38;5;45mNone\u001B[0m, \u001B[38;5;34m128\u001B[0m)            │             \u001B[38;5;34m0\u001B[0m │\n",
       "├─────────────────────────────────┼────────────────────────┼───────────────┤\n",
       "│ dense_13 (\u001B[38;5;33mDense\u001B[0m)                │ (\u001B[38;5;45mNone\u001B[0m, \u001B[38;5;34m64\u001B[0m)             │         \u001B[38;5;34m8,256\u001B[0m │\n",
       "├─────────────────────────────────┼────────────────────────┼───────────────┤\n",
       "│ dense_14 (\u001B[38;5;33mDense\u001B[0m)                │ (\u001B[38;5;45mNone\u001B[0m, \u001B[38;5;34m18\u001B[0m)             │         \u001B[38;5;34m1,170\u001B[0m │\n",
       "└─────────────────────────────────┴────────────────────────┴───────────────┘\n"
      ],
      "text/html": [
       "<pre style=\"white-space:pre;overflow-x:auto;line-height:normal;font-family:Menlo,'DejaVu Sans Mono',consolas,'Courier New',monospace\">┏━━━━━━━━━━━━━━━━━━━━━━━━━━━━━━━━━┳━━━━━━━━━━━━━━━━━━━━━━━━┳━━━━━━━━━━━━━━━┓\n",
       "┃<span style=\"font-weight: bold\"> Layer (type)                    </span>┃<span style=\"font-weight: bold\"> Output Shape           </span>┃<span style=\"font-weight: bold\">       Param # </span>┃\n",
       "┡━━━━━━━━━━━━━━━━━━━━━━━━━━━━━━━━━╇━━━━━━━━━━━━━━━━━━━━━━━━╇━━━━━━━━━━━━━━━┩\n",
       "│ conv1d_15 (<span style=\"color: #0087ff; text-decoration-color: #0087ff\">Conv1D</span>)              │ (<span style=\"color: #00d7ff; text-decoration-color: #00d7ff\">None</span>, <span style=\"color: #00af00; text-decoration-color: #00af00\">86</span>, <span style=\"color: #00af00; text-decoration-color: #00af00\">32</span>)         │           <span style=\"color: #00af00; text-decoration-color: #00af00\">512</span> │\n",
       "├─────────────────────────────────┼────────────────────────┼───────────────┤\n",
       "│ max_pooling1d_15 (<span style=\"color: #0087ff; text-decoration-color: #0087ff\">MaxPooling1D</span>) │ (<span style=\"color: #00d7ff; text-decoration-color: #00d7ff\">None</span>, <span style=\"color: #00af00; text-decoration-color: #00af00\">43</span>, <span style=\"color: #00af00; text-decoration-color: #00af00\">32</span>)         │             <span style=\"color: #00af00; text-decoration-color: #00af00\">0</span> │\n",
       "├─────────────────────────────────┼────────────────────────┼───────────────┤\n",
       "│ conv1d_16 (<span style=\"color: #0087ff; text-decoration-color: #0087ff\">Conv1D</span>)              │ (<span style=\"color: #00d7ff; text-decoration-color: #00d7ff\">None</span>, <span style=\"color: #00af00; text-decoration-color: #00af00\">34</span>, <span style=\"color: #00af00; text-decoration-color: #00af00\">64</span>)         │        <span style=\"color: #00af00; text-decoration-color: #00af00\">20,544</span> │\n",
       "├─────────────────────────────────┼────────────────────────┼───────────────┤\n",
       "│ max_pooling1d_16 (<span style=\"color: #0087ff; text-decoration-color: #0087ff\">MaxPooling1D</span>) │ (<span style=\"color: #00d7ff; text-decoration-color: #00d7ff\">None</span>, <span style=\"color: #00af00; text-decoration-color: #00af00\">17</span>, <span style=\"color: #00af00; text-decoration-color: #00af00\">64</span>)         │             <span style=\"color: #00af00; text-decoration-color: #00af00\">0</span> │\n",
       "├─────────────────────────────────┼────────────────────────┼───────────────┤\n",
       "│ conv1d_17 (<span style=\"color: #0087ff; text-decoration-color: #0087ff\">Conv1D</span>)              │ (<span style=\"color: #00d7ff; text-decoration-color: #00d7ff\">None</span>, <span style=\"color: #00af00; text-decoration-color: #00af00\">3</span>, <span style=\"color: #00af00; text-decoration-color: #00af00\">128</span>)         │       <span style=\"color: #00af00; text-decoration-color: #00af00\">123,008</span> │\n",
       "├─────────────────────────────────┼────────────────────────┼───────────────┤\n",
       "│ max_pooling1d_17 (<span style=\"color: #0087ff; text-decoration-color: #0087ff\">MaxPooling1D</span>) │ (<span style=\"color: #00d7ff; text-decoration-color: #00d7ff\">None</span>, <span style=\"color: #00af00; text-decoration-color: #00af00\">1</span>, <span style=\"color: #00af00; text-decoration-color: #00af00\">128</span>)         │             <span style=\"color: #00af00; text-decoration-color: #00af00\">0</span> │\n",
       "├─────────────────────────────────┼────────────────────────┼───────────────┤\n",
       "│ flatten_5 (<span style=\"color: #0087ff; text-decoration-color: #0087ff\">Flatten</span>)             │ (<span style=\"color: #00d7ff; text-decoration-color: #00d7ff\">None</span>, <span style=\"color: #00af00; text-decoration-color: #00af00\">128</span>)            │             <span style=\"color: #00af00; text-decoration-color: #00af00\">0</span> │\n",
       "├─────────────────────────────────┼────────────────────────┼───────────────┤\n",
       "│ dense_12 (<span style=\"color: #0087ff; text-decoration-color: #0087ff\">Dense</span>)                │ (<span style=\"color: #00d7ff; text-decoration-color: #00d7ff\">None</span>, <span style=\"color: #00af00; text-decoration-color: #00af00\">128</span>)            │        <span style=\"color: #00af00; text-decoration-color: #00af00\">16,512</span> │\n",
       "├─────────────────────────────────┼────────────────────────┼───────────────┤\n",
       "│ dropout_8 (<span style=\"color: #0087ff; text-decoration-color: #0087ff\">Dropout</span>)             │ (<span style=\"color: #00d7ff; text-decoration-color: #00d7ff\">None</span>, <span style=\"color: #00af00; text-decoration-color: #00af00\">128</span>)            │             <span style=\"color: #00af00; text-decoration-color: #00af00\">0</span> │\n",
       "├─────────────────────────────────┼────────────────────────┼───────────────┤\n",
       "│ dense_13 (<span style=\"color: #0087ff; text-decoration-color: #0087ff\">Dense</span>)                │ (<span style=\"color: #00d7ff; text-decoration-color: #00d7ff\">None</span>, <span style=\"color: #00af00; text-decoration-color: #00af00\">64</span>)             │         <span style=\"color: #00af00; text-decoration-color: #00af00\">8,256</span> │\n",
       "├─────────────────────────────────┼────────────────────────┼───────────────┤\n",
       "│ dense_14 (<span style=\"color: #0087ff; text-decoration-color: #0087ff\">Dense</span>)                │ (<span style=\"color: #00d7ff; text-decoration-color: #00d7ff\">None</span>, <span style=\"color: #00af00; text-decoration-color: #00af00\">18</span>)             │         <span style=\"color: #00af00; text-decoration-color: #00af00\">1,170</span> │\n",
       "└─────────────────────────────────┴────────────────────────┴───────────────┘\n",
       "</pre>\n"
      ]
     },
     "metadata": {},
     "output_type": "display_data"
    },
    {
     "data": {
      "text/plain": [
       "\u001B[1m Total params: \u001B[0m\u001B[38;5;34m170,002\u001B[0m (664.07 KB)\n"
      ],
      "text/html": [
       "<pre style=\"white-space:pre;overflow-x:auto;line-height:normal;font-family:Menlo,'DejaVu Sans Mono',consolas,'Courier New',monospace\"><span style=\"font-weight: bold\"> Total params: </span><span style=\"color: #00af00; text-decoration-color: #00af00\">170,002</span> (664.07 KB)\n",
       "</pre>\n"
      ]
     },
     "metadata": {},
     "output_type": "display_data"
    },
    {
     "data": {
      "text/plain": [
       "\u001B[1m Trainable params: \u001B[0m\u001B[38;5;34m170,002\u001B[0m (664.07 KB)\n"
      ],
      "text/html": [
       "<pre style=\"white-space:pre;overflow-x:auto;line-height:normal;font-family:Menlo,'DejaVu Sans Mono',consolas,'Courier New',monospace\"><span style=\"font-weight: bold\"> Trainable params: </span><span style=\"color: #00af00; text-decoration-color: #00af00\">170,002</span> (664.07 KB)\n",
       "</pre>\n"
      ]
     },
     "metadata": {},
     "output_type": "display_data"
    },
    {
     "data": {
      "text/plain": [
       "\u001B[1m Non-trainable params: \u001B[0m\u001B[38;5;34m0\u001B[0m (0.00 B)\n"
      ],
      "text/html": [
       "<pre style=\"white-space:pre;overflow-x:auto;line-height:normal;font-family:Menlo,'DejaVu Sans Mono',consolas,'Courier New',monospace\"><span style=\"font-weight: bold\"> Non-trainable params: </span><span style=\"color: #00af00; text-decoration-color: #00af00\">0</span> (0.00 B)\n",
       "</pre>\n"
      ]
     },
     "metadata": {},
     "output_type": "display_data"
    }
   ],
   "execution_count": 113
  },
  {
   "metadata": {
    "ExecuteTime": {
     "end_time": "2024-12-29T11:36:58.569587100Z",
     "start_time": "2024-12-12T11:50:34.692518Z"
    }
   },
   "cell_type": "code",
   "source": [
    "# Trening modelu\n",
    "history = model.fit(X_train, y_train,\n",
    "                    epochs=30,\n",
    "                    batch_size=32,\n",
    "                    validation_split=0.3)\n",
    "\n",
    "# Wyświetlenie kluczowych informacji z historii\n",
    "print(history.history.keys())\n"
   ],
   "id": "3178c3d4da1671dd",
   "outputs": [
    {
     "name": "stdout",
     "output_type": "stream",
     "text": [
      "Epoch 1/30\n",
      "\u001B[1m568/568\u001B[0m \u001B[32m━━━━━━━━━━━━━━━━━━━━\u001B[0m\u001B[37m\u001B[0m \u001B[1m8s\u001B[0m 9ms/step - accuracy: 0.1680 - loss: 2.4362 - val_accuracy: 0.3460 - val_loss: 1.7616\n",
      "Epoch 2/30\n",
      "\u001B[1m568/568\u001B[0m \u001B[32m━━━━━━━━━━━━━━━━━━━━\u001B[0m\u001B[37m\u001B[0m \u001B[1m5s\u001B[0m 8ms/step - accuracy: 0.3463 - loss: 1.7426 - val_accuracy: 0.4298 - val_loss: 1.5410\n",
      "Epoch 3/30\n",
      "\u001B[1m568/568\u001B[0m \u001B[32m━━━━━━━━━━━━━━━━━━━━\u001B[0m\u001B[37m\u001B[0m \u001B[1m5s\u001B[0m 8ms/step - accuracy: 0.4386 - loss: 1.5074 - val_accuracy: 0.5120 - val_loss: 1.2929\n",
      "Epoch 4/30\n",
      "\u001B[1m568/568\u001B[0m \u001B[32m━━━━━━━━━━━━━━━━━━━━\u001B[0m\u001B[37m\u001B[0m \u001B[1m5s\u001B[0m 8ms/step - accuracy: 0.4913 - loss: 1.3541 - val_accuracy: 0.5476 - val_loss: 1.1924\n",
      "Epoch 5/30\n",
      "\u001B[1m568/568\u001B[0m \u001B[32m━━━━━━━━━━━━━━━━━━━━\u001B[0m\u001B[37m\u001B[0m \u001B[1m5s\u001B[0m 8ms/step - accuracy: 0.5422 - loss: 1.2158 - val_accuracy: 0.6128 - val_loss: 1.0554\n",
      "Epoch 6/30\n",
      "\u001B[1m568/568\u001B[0m \u001B[32m━━━━━━━━━━━━━━━━━━━━\u001B[0m\u001B[37m\u001B[0m \u001B[1m5s\u001B[0m 8ms/step - accuracy: 0.5744 - loss: 1.1425 - val_accuracy: 0.7057 - val_loss: 0.8926\n",
      "Epoch 7/30\n",
      "\u001B[1m568/568\u001B[0m \u001B[32m━━━━━━━━━━━━━━━━━━━━\u001B[0m\u001B[37m\u001B[0m \u001B[1m5s\u001B[0m 8ms/step - accuracy: 0.6079 - loss: 1.0429 - val_accuracy: 0.6918 - val_loss: 0.8061\n",
      "Epoch 8/30\n",
      "\u001B[1m568/568\u001B[0m \u001B[32m━━━━━━━━━━━━━━━━━━━━\u001B[0m\u001B[37m\u001B[0m \u001B[1m5s\u001B[0m 9ms/step - accuracy: 0.6355 - loss: 0.9749 - val_accuracy: 0.7063 - val_loss: 0.7619\n",
      "Epoch 9/30\n",
      "\u001B[1m568/568\u001B[0m \u001B[32m━━━━━━━━━━━━━━━━━━━━\u001B[0m\u001B[37m\u001B[0m \u001B[1m5s\u001B[0m 9ms/step - accuracy: 0.6483 - loss: 0.9318 - val_accuracy: 0.7158 - val_loss: 0.7477\n",
      "Epoch 10/30\n",
      "\u001B[1m568/568\u001B[0m \u001B[32m━━━━━━━━━━━━━━━━━━━━\u001B[0m\u001B[37m\u001B[0m \u001B[1m5s\u001B[0m 9ms/step - accuracy: 0.6669 - loss: 0.8600 - val_accuracy: 0.7291 - val_loss: 0.7102\n",
      "Epoch 11/30\n",
      "\u001B[1m568/568\u001B[0m \u001B[32m━━━━━━━━━━━━━━━━━━━━\u001B[0m\u001B[37m\u001B[0m \u001B[1m5s\u001B[0m 9ms/step - accuracy: 0.6831 - loss: 0.8279 - val_accuracy: 0.7558 - val_loss: 0.6729\n",
      "Epoch 12/30\n",
      "\u001B[1m568/568\u001B[0m \u001B[32m━━━━━━━━━━━━━━━━━━━━\u001B[0m\u001B[37m\u001B[0m \u001B[1m5s\u001B[0m 9ms/step - accuracy: 0.6739 - loss: 0.8432 - val_accuracy: 0.6867 - val_loss: 0.7729\n",
      "Epoch 13/30\n",
      "\u001B[1m568/568\u001B[0m \u001B[32m━━━━━━━━━━━━━━━━━━━━\u001B[0m\u001B[37m\u001B[0m \u001B[1m5s\u001B[0m 9ms/step - accuracy: 0.6882 - loss: 0.8029 - val_accuracy: 0.6971 - val_loss: 0.7564\n",
      "Epoch 14/30\n",
      "\u001B[1m568/568\u001B[0m \u001B[32m━━━━━━━━━━━━━━━━━━━━\u001B[0m\u001B[37m\u001B[0m \u001B[1m5s\u001B[0m 9ms/step - accuracy: 0.6972 - loss: 0.7659 - val_accuracy: 0.7658 - val_loss: 0.6063\n",
      "Epoch 15/30\n",
      "\u001B[1m568/568\u001B[0m \u001B[32m━━━━━━━━━━━━━━━━━━━━\u001B[0m\u001B[37m\u001B[0m \u001B[1m5s\u001B[0m 9ms/step - accuracy: 0.7200 - loss: 0.7184 - val_accuracy: 0.7344 - val_loss: 0.7029\n",
      "Epoch 16/30\n",
      "\u001B[1m568/568\u001B[0m \u001B[32m━━━━━━━━━━━━━━━━━━━━\u001B[0m\u001B[37m\u001B[0m \u001B[1m5s\u001B[0m 9ms/step - accuracy: 0.7264 - loss: 0.7044 - val_accuracy: 0.7846 - val_loss: 0.5778\n",
      "Epoch 17/30\n",
      "\u001B[1m568/568\u001B[0m \u001B[32m━━━━━━━━━━━━━━━━━━━━\u001B[0m\u001B[37m\u001B[0m \u001B[1m5s\u001B[0m 9ms/step - accuracy: 0.7389 - loss: 0.6811 - val_accuracy: 0.7831 - val_loss: 0.5703\n",
      "Epoch 18/30\n",
      "\u001B[1m568/568\u001B[0m \u001B[32m━━━━━━━━━━━━━━━━━━━━\u001B[0m\u001B[37m\u001B[0m \u001B[1m5s\u001B[0m 8ms/step - accuracy: 0.7469 - loss: 0.6463 - val_accuracy: 0.7639 - val_loss: 0.5943\n",
      "Epoch 19/30\n",
      "\u001B[1m568/568\u001B[0m \u001B[32m━━━━━━━━━━━━━━━━━━━━\u001B[0m\u001B[37m\u001B[0m \u001B[1m5s\u001B[0m 9ms/step - accuracy: 0.7418 - loss: 0.6587 - val_accuracy: 0.8214 - val_loss: 0.5084\n",
      "Epoch 20/30\n",
      "\u001B[1m568/568\u001B[0m \u001B[32m━━━━━━━━━━━━━━━━━━━━\u001B[0m\u001B[37m\u001B[0m \u001B[1m5s\u001B[0m 8ms/step - accuracy: 0.7507 - loss: 0.6432 - val_accuracy: 0.8264 - val_loss: 0.4846\n",
      "Epoch 21/30\n",
      "\u001B[1m568/568\u001B[0m \u001B[32m━━━━━━━━━━━━━━━━━━━━\u001B[0m\u001B[37m\u001B[0m \u001B[1m5s\u001B[0m 8ms/step - accuracy: 0.7547 - loss: 0.6413 - val_accuracy: 0.8280 - val_loss: 0.4797\n",
      "Epoch 22/30\n",
      "\u001B[1m568/568\u001B[0m \u001B[32m━━━━━━━━━━━━━━━━━━━━\u001B[0m\u001B[37m\u001B[0m \u001B[1m5s\u001B[0m 8ms/step - accuracy: 0.7555 - loss: 0.6300 - val_accuracy: 0.8194 - val_loss: 0.4907\n",
      "Epoch 23/30\n",
      "\u001B[1m568/568\u001B[0m \u001B[32m━━━━━━━━━━━━━━━━━━━━\u001B[0m\u001B[37m\u001B[0m \u001B[1m5s\u001B[0m 8ms/step - accuracy: 0.7604 - loss: 0.6105 - val_accuracy: 0.8169 - val_loss: 0.4919\n",
      "Epoch 24/30\n",
      "\u001B[1m568/568\u001B[0m \u001B[32m━━━━━━━━━━━━━━━━━━━━\u001B[0m\u001B[37m\u001B[0m \u001B[1m5s\u001B[0m 8ms/step - accuracy: 0.7746 - loss: 0.5907 - val_accuracy: 0.8131 - val_loss: 0.4831\n",
      "Epoch 25/30\n",
      "\u001B[1m568/568\u001B[0m \u001B[32m━━━━━━━━━━━━━━━━━━━━\u001B[0m\u001B[37m\u001B[0m \u001B[1m5s\u001B[0m 8ms/step - accuracy: 0.7828 - loss: 0.5592 - val_accuracy: 0.7856 - val_loss: 0.5593\n",
      "Epoch 26/30\n",
      "\u001B[1m568/568\u001B[0m \u001B[32m━━━━━━━━━━━━━━━━━━━━\u001B[0m\u001B[37m\u001B[0m \u001B[1m5s\u001B[0m 8ms/step - accuracy: 0.7730 - loss: 0.5812 - val_accuracy: 0.8350 - val_loss: 0.4499\n",
      "Epoch 27/30\n",
      "\u001B[1m568/568\u001B[0m \u001B[32m━━━━━━━━━━━━━━━━━━━━\u001B[0m\u001B[37m\u001B[0m \u001B[1m5s\u001B[0m 8ms/step - accuracy: 0.7792 - loss: 0.5598 - val_accuracy: 0.7714 - val_loss: 0.6721\n",
      "Epoch 28/30\n",
      "\u001B[1m568/568\u001B[0m \u001B[32m━━━━━━━━━━━━━━━━━━━━\u001B[0m\u001B[37m\u001B[0m \u001B[1m5s\u001B[0m 8ms/step - accuracy: 0.7827 - loss: 0.5669 - val_accuracy: 0.8476 - val_loss: 0.4343\n",
      "Epoch 29/30\n",
      "\u001B[1m568/568\u001B[0m \u001B[32m━━━━━━━━━━━━━━━━━━━━\u001B[0m\u001B[37m\u001B[0m \u001B[1m6s\u001B[0m 10ms/step - accuracy: 0.7932 - loss: 0.5330 - val_accuracy: 0.8414 - val_loss: 0.4341\n",
      "Epoch 30/30\n",
      "\u001B[1m568/568\u001B[0m \u001B[32m━━━━━━━━━━━━━━━━━━━━\u001B[0m\u001B[37m\u001B[0m \u001B[1m5s\u001B[0m 8ms/step - accuracy: 0.7989 - loss: 0.5123 - val_accuracy: 0.8180 - val_loss: 0.5068\n",
      "dict_keys(['accuracy', 'loss', 'val_accuracy', 'val_loss'])\n"
     ]
    }
   ],
   "execution_count": 114
  },
  {
   "metadata": {
    "ExecuteTime": {
     "end_time": "2024-12-29T11:36:58.574577600Z",
     "start_time": "2024-12-12T11:35:51.017415Z"
    }
   },
   "cell_type": "code",
   "source": [
    "from keras.callbacks import EarlyStopping\n",
    "es = EarlyStopping(monitor='val_loss', mode='min', verbose=1, patience=200)"
   ],
   "id": "1f799f97af077c8a",
   "outputs": [],
   "execution_count": 100
  },
  {
   "metadata": {
    "ExecuteTime": {
     "end_time": "2024-12-29T11:36:58.577535900Z",
     "start_time": "2024-12-12T11:34:42.188619Z"
    }
   },
   "cell_type": "code",
   "source": "history = model.fit(X_train, y_train, validation_data=(X_test, y_test), epochs=10, verbose=2, callbacks=[es])",
   "id": "c36f58e726c6fba7",
   "outputs": [
    {
     "name": "stdout",
     "output_type": "stream",
     "text": [
      "Epoch 1/10\n",
      "811/811 - 8s - 10ms/step - accuracy: 0.9072 - loss: 0.2490 - val_accuracy: 0.8883 - val_loss: 0.4299\n",
      "Epoch 2/10\n",
      "811/811 - 7s - 8ms/step - accuracy: 0.8988 - loss: 0.2631 - val_accuracy: 0.8398 - val_loss: 0.5243\n",
      "Epoch 3/10\n",
      "811/811 - 6s - 7ms/step - accuracy: 0.9070 - loss: 0.2523 - val_accuracy: 0.8925 - val_loss: 0.4273\n",
      "Epoch 4/10\n",
      "811/811 - 6s - 7ms/step - accuracy: 0.9074 - loss: 0.2425 - val_accuracy: 0.8964 - val_loss: 0.4205\n",
      "Epoch 5/10\n",
      "811/811 - 6s - 7ms/step - accuracy: 0.9063 - loss: 0.2455 - val_accuracy: 0.8902 - val_loss: 0.4627\n",
      "Epoch 6/10\n",
      "811/811 - 7s - 8ms/step - accuracy: 0.9078 - loss: 0.2450 - val_accuracy: 0.8871 - val_loss: 0.4597\n",
      "Epoch 7/10\n",
      "811/811 - 8s - 10ms/step - accuracy: 0.9094 - loss: 0.2356 - val_accuracy: 0.8805 - val_loss: 0.4966\n",
      "Epoch 8/10\n",
      "811/811 - 9s - 11ms/step - accuracy: 0.9053 - loss: 0.2556 - val_accuracy: 0.8977 - val_loss: 0.4302\n",
      "Epoch 9/10\n",
      "811/811 - 7s - 8ms/step - accuracy: 0.9062 - loss: 0.2448 - val_accuracy: 0.8927 - val_loss: 0.4248\n",
      "Epoch 10/10\n",
      "811/811 - 7s - 8ms/step - accuracy: 0.9058 - loss: 0.2511 - val_accuracy: 0.8962 - val_loss: 0.4221\n"
     ]
    }
   ],
   "execution_count": 99
  },
  {
   "metadata": {
    "ExecuteTime": {
     "end_time": "2024-12-29T11:36:58.578531700Z",
     "start_time": "2024-12-12T11:53:35.973094Z"
    }
   },
   "cell_type": "code",
   "source": [
    "test_loss, test_acc = model.evaluate(X_test, y_test)\n",
    "print(f\"Test Accuracy: {test_acc:.2f}\")"
   ],
   "id": "b57656cd68987830",
   "outputs": [
    {
     "name": "stdout",
     "output_type": "stream",
     "text": [
      "\u001B[1m203/203\u001B[0m \u001B[32m━━━━━━━━━━━━━━━━━━━━\u001B[0m\u001B[37m\u001B[0m \u001B[1m0s\u001B[0m 2ms/step - accuracy: 0.8174 - loss: 0.5059\n",
      "Test Accuracy: 0.82\n"
     ]
    }
   ],
   "execution_count": 115
  },
  {
   "metadata": {
    "ExecuteTime": {
     "end_time": "2024-12-29T11:36:58.579529400Z",
     "start_time": "2024-12-12T11:53:42.714560Z"
    }
   },
   "cell_type": "code",
   "source": [
    "from matplotlib import pyplot\n",
    "# PLOT TRAINING HISTORY\n",
    "pyplot.plot(history.history['loss'], label='train')\n",
    "pyplot.plot(history.history['val_loss'], label='test')\n",
    "pyplot.legend()\n",
    "pyplot.show()"
   ],
   "id": "f46e5bbd4cb33449",
   "outputs": [
    {
     "data": {
      "text/plain": [
       "<Figure size 640x480 with 1 Axes>"
      ],
      "image/png": "[encoded data removed]"
     },
     "metadata": {},
     "output_type": "display_data"
    }
   ],
   "execution_count": 116
  },
  {
   "metadata": {
    "ExecuteTime": {
     "end_time": "2024-12-29T11:36:58.580528300Z",
     "start_time": "2024-12-12T11:53:45.876987Z"
    }
   },
   "cell_type": "code",
   "source": [
    "from matplotlib import pyplot\n",
    "# PLOT TRAINING HISTORY\n",
    "pyplot.plot(history.history['accuracy'], label='train')\n",
    "pyplot.plot(history.history['val_accuracy'], label='test')\n",
    "pyplot.legend()\n",
    "pyplot.show()"
   ],
   "id": "5a5521ae6546b224",
   "outputs": [
    {
     "data": {
      "text/plain": [
       "<Figure size 640x480 with 1 Axes>"
      ],
      "image/png": "[encoded data removed]"
     },
     "metadata": {},
     "output_type": "display_data"
    }
   ],
   "execution_count": 117
  },
  {
   "metadata": {
    "ExecuteTime": {
     "end_time": "2024-12-29T11:36:58.581532400Z",
     "start_time": "2024-12-12T11:53:52.484661Z"
    }
   },
   "cell_type": "code",
   "source": [
    "train_acc = model.evaluate(X_train, y_train, verbose=0)\n",
    "test_acc = model.evaluate(X_test, y_test, verbose=0)\n",
    "print(train_acc, test_acc)"
   ],
   "id": "e38880fcedf783dc",
   "outputs": [
    {
     "name": "stdout",
     "output_type": "stream",
     "text": [
      "[0.45271867513656616, 0.8261875510215759] [0.4931958317756653, 0.8190931677818298]\n"
     ]
    }
   ],
   "execution_count": 118
  },
  {
   "metadata": {
    "ExecuteTime": {
     "end_time": "2024-12-29T11:36:58.584548800Z",
     "start_time": "2024-12-12T11:54:03.872757Z"
    }
   },
   "cell_type": "code",
   "source": "y_pred = model.predict(X_test)\n",
   "id": "86e808f201d42e39",
   "outputs": [
    {
     "name": "stdout",
     "output_type": "stream",
     "text": [
      "\u001B[1m203/203\u001B[0m \u001B[32m━━━━━━━━━━━━━━━━━━━━\u001B[0m\u001B[37m\u001B[0m \u001B[1m1s\u001B[0m 3ms/step\n"
     ]
    }
   ],
   "execution_count": 119
  },
  {
   "metadata": {
    "ExecuteTime": {
     "end_time": "2024-12-29T11:36:58.585512500Z",
     "start_time": "2024-12-12T11:54:05.531221Z"
    }
   },
   "cell_type": "code",
   "source": [
    "y_pred_classes = y_pred.argmax(axis=1)  # Przekształcenie na klasy\n",
    "y_true_classes = y_test.argmax(axis=1)  # Prawdziwe etykiety w formacie klas\n"
   ],
   "id": "ca1808cbfd8d35b5",
   "outputs": [],
   "execution_count": 120
  },
  {
   "metadata": {
    "ExecuteTime": {
     "end_time": "2024-12-29T11:36:58.586510300Z",
     "start_time": "2024-12-12T11:54:07.386794Z"
    }
   },
   "cell_type": "code",
   "source": [
    "import sklearn\n",
    "r = sklearn.metrics.confusion_matrix(y_true_classes, y_pred_classes)\n",
    "print(r)"
   ],
   "id": "46056cb883904ca9",
   "outputs": [
    {
     "name": "stdout",
     "output_type": "stream",
     "text": [
      "[[307   0   4   0   1   9   0   5   4   0   0   5   0   0  19   0   0   0]\n",
      " [ 30 159   8   9  42  34   1   0   0   0   1   0   2   0   0   1   0  38]\n",
      " [  1   1 286   0   1   0   0   0   5   0  19  23   0   0   1   0   0   1]\n",
      " [  0   4   0 384   7   2   2   0   0   0   0   0   0   0   0   0   0   2]\n",
      " [ 28   0   0   2 315  23   3  10   0   0   0   0   2   0  22   4   0   2]\n",
      " [  2   0   0  43  19 272   6  20   0   0   0   0   0   0   0   5   0   0]\n",
      " [  1   0   0  36   4   0 340   0   0   0   0   0   5   0   1   8   0  14]\n",
      " [  1   0   0   6  32  89  26 243   0   0   0   0   0   0   0  25   0   0]\n",
      " [  1   1   4   0   0   0   4   0 249   0   0  54   0   0  10   7   0   0]\n",
      " [  0   0   0   0   0   0   0   0   0 390   2   0   0   0   0   0   0   0]\n",
      " [  0   0  11   0   0   0   0   0   1   1 266  53   0   0   0   0   3   0]\n",
      " [  1   0  19   0   0   0   0   0   3   0  18 273   0   0   1   0   1   0]\n",
      " [  3   0   2   3   1   2   1   2   0   0   2   1 308   0   0   3   0  15]\n",
      " [  1   0   1   0   0   0   0   0   0   0  37   6   0 264   0   0  21   1]\n",
      " [  1   1   1   0   0   0   0   0  16   0   1   4   1   0 299   9   0   9]\n",
      " [  0   0   0   0   0   8   1  13   0   0   0   1   0   0   6 321   0   0]\n",
      " [  0   0   0   0   0   0   0   0   0   0   9   0   0   2   0   0 383   0]\n",
      " [  0   0   0  30   0   1   2   2   0   0   0   1   1   0   3  32   0 252]]\n"
     ]
    }
   ],
   "execution_count": 121
  },
  {
   "metadata": {
    "ExecuteTime": {
     "end_time": "2024-12-29T11:36:58.586510300Z",
     "start_time": "2024-12-12T11:55:39.560134Z"
    }
   },
   "cell_type": "code",
   "source": "data1.activity.unique()",
   "id": "ba5d7f2c6f361346",
   "outputs": [
    {
     "data": {
      "text/plain": [
       "array(['Walking', 'Jogging', 'Stairs', 'Sitting', 'Standing', 'Typing',\n",
       "       'Brushing Teeth', 'Eating Soup', 'Eating Chips', 'Eating Pasta',\n",
       "       'Drinking from Cup', 'Eating Sandwich', 'Kicking (Soccer Ball)',\n",
       "       'Playing Catch w/Tennis Ball', 'Dribbling (Basketball)', 'Writing',\n",
       "       'Clapping', 'Folding Clothes'], dtype=object)"
      ]
     },
     "execution_count": 124,
     "metadata": {},
     "output_type": "execute_result"
    }
   ],
   "execution_count": 124
  },
  {
   "metadata": {},
   "cell_type": "markdown",
   "source": "# Trzeci model",
   "id": "25c435507d7a7a58"
  },
  {
   "metadata": {
    "ExecuteTime": {
     "end_time": "2024-12-29T11:36:58.591496400Z",
     "start_time": "2024-12-12T13:08:22.829915Z"
    }
   },
   "cell_type": "code",
   "source": [
    "import scipy.stats as stats\n",
    "\n",
    "frequency = 20 # Based on Hertz\n",
    "time_period = 10 # Based on Second\n",
    "frame_size = frequency * time_period\n",
    "step_size = frame_size # In order not to have an overlap\n",
    "\n",
    "def get_frames(df, frame_size, step_size):\n",
    "    n_features = 3\n",
    "    frames = []\n",
    "    labels = []\n",
    "    for i in range(0, len(df) - frame_size, step_size):\n",
    "        x = df['x'].values[i: i + frame_size]\n",
    "        y = df['y'].values[i: i + frame_size]\n",
    "        z = df['z'].values[i: i + frame_size]\n",
    "\n",
    "        labels_in_frame = df['activity'].values[i: i + frame_size]\n",
    "        unique_labels, counts = np.unique(labels_in_frame, return_counts=True)\n",
    "        label = unique_labels[np.argmax(counts)]\n",
    "        frames.append([x, y, z])\n",
    "        labels.append(label)\n",
    "\n",
    "    frames = np.asarray(frames).reshape(-1, frame_size, n_features)\n",
    "    labels = np.asarray(labels)\n",
    "\n",
    "    return frames, labels"
   ],
   "id": "540e7330729b1fff",
   "outputs": [],
   "execution_count": 142
  },
  {
   "metadata": {
    "ExecuteTime": {
     "end_time": "2024-12-29T11:36:58.591496400Z",
     "start_time": "2024-12-12T13:20:15.412586Z"
    }
   },
   "cell_type": "code",
   "source": [
    "X, y = get_frames(data1, frame_size, step_size)\n",
    "\n",
    "X_train, X_test, y_train, y_test = train_test_split(X, y, test_size = 0.2, stratify = y)"
   ],
   "id": "c8cd3dd0db6393e2",
   "outputs": [],
   "execution_count": 173
  },
  {
   "metadata": {
    "ExecuteTime": {
     "end_time": "2024-12-29T11:36:58.592493900Z",
     "start_time": "2024-12-12T13:20:16.469836Z"
    }
   },
   "cell_type": "code",
   "source": [
    "X_train = X_train.reshape(X_train.shape[0], X_train.shape[1], 3, 1)\n",
    "X_test = X_test.reshape(X_test.shape[0], X_test.shape[1], 3, 1)"
   ],
   "id": "c42d330a4a5fe6c9",
   "outputs": [],
   "execution_count": 174
  },
  {
   "metadata": {
    "ExecuteTime": {
     "end_time": "2024-12-29T11:36:58.592493900Z",
     "start_time": "2024-12-12T13:20:18.517519Z"
    }
   },
   "cell_type": "code",
   "source": [
    "from sklearn.preprocessing import LabelEncoder\n",
    "\n",
    "encoder = LabelEncoder()\n",
    "y_train = encoder.fit_transform(y_train)\n",
    "y_test = encoder.transform(y_test)\n"
   ],
   "id": "b2e799240a902f57",
   "outputs": [],
   "execution_count": 175
  },
  {
   "metadata": {
    "ExecuteTime": {
     "end_time": "2024-12-29T11:36:58.592493900Z",
     "start_time": "2024-12-12T13:20:19.008901Z"
    }
   },
   "cell_type": "code",
   "source": [
    "from tensorflow.keras.models import Sequential\n",
    "from tensorflow.keras.layers import Conv2D, MaxPooling2D, Flatten, Dense, Dropout\n",
    "\n",
    "model = Sequential()\n",
    "Input(shape=(X_train.shape[1], X_train.shape[2])),\n",
    "\n",
    "model.add(Conv2D(64, (2, 2), activation = 'relu'))\n",
    "#     model.add(Dropout(0.1))\n",
    "#     model.add(Conv2D(64, (2, 2), activation='relu'))\n",
    "#     model.add(Dropout(0.2))\n",
    "model.add(MaxPooling2D(pool_size=2))\n",
    "model.add(Flatten())\n",
    "model.add(Dense(128, activation = 'relu'))\n",
    "model.add(Dense(128, activation = 'relu'))\n",
    "model.add(Dropout(0.5))\n",
    "model.add(Dense(18, activation='softmax'))\n",
    "\n",
    "# Compiles model\n",
    "model.compile(optimizer='adam',\n",
    "              loss = 'sparse_categorical_crossentropy',\n",
    "              metrics = ['accuracy'])\n"
   ],
   "id": "dcaefe21259d7b07",
   "outputs": [],
   "execution_count": 176
  },
  {
   "metadata": {
    "ExecuteTime": {
     "end_time": "2024-12-29T11:36:58.592493900Z",
     "start_time": "2024-12-12T13:20:21.358482Z"
    }
   },
   "cell_type": "code",
   "source": [
    "from keras.callbacks import EarlyStopping\n",
    "es = EarlyStopping(monitor='val_loss', mode='min', verbose=1, patience=200)"
   ],
   "id": "bede5a85f90a08dd",
   "outputs": [],
   "execution_count": 177
  },
  {
   "metadata": {
    "ExecuteTime": {
     "end_time": "2024-12-29T11:36:58.593491100Z",
     "start_time": "2024-12-12T13:20:26.864761Z"
    }
   },
   "cell_type": "code",
   "source": "history = model.fit(X_train, y_train, validation_data=(X_test, y_test), epochs=100, verbose=2, callbacks=[es])",
   "id": "7d5c8556e319f0e5",
   "outputs": [
    {
     "name": "stdout",
     "output_type": "stream",
     "text": [
      "Epoch 1/100\n",
      "82/82 - 3s - 39ms/step - accuracy: 0.1130 - loss: 2.6871 - val_accuracy: 0.2049 - val_loss: 2.3740\n",
      "Epoch 2/100\n",
      "82/82 - 1s - 17ms/step - accuracy: 0.1951 - loss: 2.3080 - val_accuracy: 0.2388 - val_loss: 2.1396\n",
      "Epoch 3/100\n",
      "82/82 - 1s - 17ms/step - accuracy: 0.2279 - loss: 2.1625 - val_accuracy: 0.2881 - val_loss: 1.9757\n",
      "Epoch 4/100\n",
      "82/82 - 1s - 15ms/step - accuracy: 0.2553 - loss: 2.0324 - val_accuracy: 0.2897 - val_loss: 1.8989\n",
      "Epoch 5/100\n",
      "82/82 - 1s - 15ms/step - accuracy: 0.2730 - loss: 1.9610 - val_accuracy: 0.3359 - val_loss: 1.8396\n",
      "Epoch 6/100\n",
      "82/82 - 1s - 15ms/step - accuracy: 0.3101 - loss: 1.8898 - val_accuracy: 0.2958 - val_loss: 1.8316\n",
      "Epoch 7/100\n",
      "82/82 - 1s - 15ms/step - accuracy: 0.3178 - loss: 1.8401 - val_accuracy: 0.3436 - val_loss: 1.7410\n",
      "Epoch 8/100\n",
      "82/82 - 1s - 16ms/step - accuracy: 0.3301 - loss: 1.7988 - val_accuracy: 0.3606 - val_loss: 1.7368\n",
      "Epoch 9/100\n",
      "82/82 - 1s - 15ms/step - accuracy: 0.3328 - loss: 1.7684 - val_accuracy: 0.3636 - val_loss: 1.7532\n",
      "Epoch 10/100\n",
      "82/82 - 1s - 16ms/step - accuracy: 0.3382 - loss: 1.7330 - val_accuracy: 0.3621 - val_loss: 1.6957\n",
      "Epoch 11/100\n",
      "82/82 - 1s - 15ms/step - accuracy: 0.3579 - loss: 1.6898 - val_accuracy: 0.4022 - val_loss: 1.6266\n",
      "Epoch 12/100\n",
      "82/82 - 1s - 15ms/step - accuracy: 0.3764 - loss: 1.6437 - val_accuracy: 0.4022 - val_loss: 1.6543\n",
      "Epoch 13/100\n",
      "82/82 - 1s - 15ms/step - accuracy: 0.3857 - loss: 1.6336 - val_accuracy: 0.3837 - val_loss: 1.6885\n",
      "Epoch 14/100\n",
      "82/82 - 1s - 15ms/step - accuracy: 0.3621 - loss: 1.6869 - val_accuracy: 0.3575 - val_loss: 1.6334\n",
      "Epoch 15/100\n",
      "82/82 - 1s - 16ms/step - accuracy: 0.3849 - loss: 1.6172 - val_accuracy: 0.3652 - val_loss: 1.6971\n",
      "Epoch 16/100\n",
      "82/82 - 1s - 16ms/step - accuracy: 0.4111 - loss: 1.5827 - val_accuracy: 0.2928 - val_loss: 1.7259\n",
      "Epoch 17/100\n",
      "82/82 - 1s - 17ms/step - accuracy: 0.3652 - loss: 1.7084 - val_accuracy: 0.4222 - val_loss: 1.6341\n",
      "Epoch 18/100\n",
      "82/82 - 1s - 17ms/step - accuracy: 0.4126 - loss: 1.5384 - val_accuracy: 0.4237 - val_loss: 1.4991\n",
      "Epoch 19/100\n",
      "82/82 - 1s - 16ms/step - accuracy: 0.4366 - loss: 1.4985 - val_accuracy: 0.4299 - val_loss: 1.4863\n",
      "Epoch 20/100\n",
      "82/82 - 1s - 16ms/step - accuracy: 0.4362 - loss: 1.4746 - val_accuracy: 0.4545 - val_loss: 1.4714\n",
      "Epoch 21/100\n",
      "82/82 - 1s - 15ms/step - accuracy: 0.4489 - loss: 1.4574 - val_accuracy: 0.4206 - val_loss: 1.5327\n",
      "Epoch 22/100\n",
      "82/82 - 1s - 15ms/step - accuracy: 0.4501 - loss: 1.4613 - val_accuracy: 0.4730 - val_loss: 1.4403\n",
      "Epoch 23/100\n",
      "82/82 - 1s - 15ms/step - accuracy: 0.4470 - loss: 1.4458 - val_accuracy: 0.4746 - val_loss: 1.4335\n",
      "Epoch 24/100\n",
      "82/82 - 1s - 15ms/step - accuracy: 0.4778 - loss: 1.3890 - val_accuracy: 0.4746 - val_loss: 1.4341\n",
      "Epoch 25/100\n",
      "82/82 - 1s - 15ms/step - accuracy: 0.4778 - loss: 1.3832 - val_accuracy: 0.2465 - val_loss: 2.5018\n",
      "Epoch 26/100\n",
      "82/82 - 1s - 15ms/step - accuracy: 0.4188 - loss: 1.5865 - val_accuracy: 0.4900 - val_loss: 1.4181\n",
      "Epoch 27/100\n",
      "82/82 - 1s - 15ms/step - accuracy: 0.4886 - loss: 1.3379 - val_accuracy: 0.4900 - val_loss: 1.3966\n",
      "Epoch 28/100\n",
      "82/82 - 1s - 16ms/step - accuracy: 0.4832 - loss: 1.3529 - val_accuracy: 0.4961 - val_loss: 1.3624\n",
      "Epoch 29/100\n",
      "82/82 - 1s - 16ms/step - accuracy: 0.5291 - loss: 1.2971 - val_accuracy: 0.4977 - val_loss: 1.3805\n",
      "Epoch 30/100\n",
      "82/82 - 1s - 16ms/step - accuracy: 0.5272 - loss: 1.2949 - val_accuracy: 0.5254 - val_loss: 1.3413\n",
      "Epoch 31/100\n",
      "82/82 - 1s - 16ms/step - accuracy: 0.5418 - loss: 1.2429 - val_accuracy: 0.5686 - val_loss: 1.3246\n",
      "Epoch 32/100\n",
      "82/82 - 1s - 16ms/step - accuracy: 0.5164 - loss: 1.2847 - val_accuracy: 0.5516 - val_loss: 1.3061\n",
      "Epoch 33/100\n",
      "82/82 - 1s - 16ms/step - accuracy: 0.5287 - loss: 1.2550 - val_accuracy: 0.5655 - val_loss: 1.3018\n",
      "Epoch 34/100\n",
      "82/82 - 1s - 16ms/step - accuracy: 0.5550 - loss: 1.2090 - val_accuracy: 0.5747 - val_loss: 1.2870\n",
      "Epoch 35/100\n",
      "82/82 - 1s - 16ms/step - accuracy: 0.5584 - loss: 1.1805 - val_accuracy: 0.5547 - val_loss: 1.3887\n",
      "Epoch 36/100\n",
      "82/82 - 1s - 16ms/step - accuracy: 0.5542 - loss: 1.1980 - val_accuracy: 0.6040 - val_loss: 1.2703\n",
      "Epoch 37/100\n",
      "82/82 - 1s - 16ms/step - accuracy: 0.5766 - loss: 1.1432 - val_accuracy: 0.5978 - val_loss: 1.2541\n",
      "Epoch 38/100\n",
      "82/82 - 1s - 16ms/step - accuracy: 0.5742 - loss: 1.1386 - val_accuracy: 0.5686 - val_loss: 1.2621\n",
      "Epoch 39/100\n",
      "82/82 - 1s - 16ms/step - accuracy: 0.5754 - loss: 1.1273 - val_accuracy: 0.5932 - val_loss: 1.2619\n",
      "Epoch 40/100\n",
      "82/82 - 1s - 16ms/step - accuracy: 0.5816 - loss: 1.1086 - val_accuracy: 0.5963 - val_loss: 1.2258\n",
      "Epoch 41/100\n",
      "82/82 - 1s - 16ms/step - accuracy: 0.5908 - loss: 1.1034 - val_accuracy: 0.6102 - val_loss: 1.2164\n",
      "Epoch 42/100\n",
      "82/82 - 1s - 16ms/step - accuracy: 0.5858 - loss: 1.1018 - val_accuracy: 0.6194 - val_loss: 1.2463\n",
      "Epoch 43/100\n",
      "82/82 - 1s - 16ms/step - accuracy: 0.6020 - loss: 1.0799 - val_accuracy: 0.5716 - val_loss: 1.3501\n",
      "Epoch 44/100\n",
      "82/82 - 1s - 15ms/step - accuracy: 0.6039 - loss: 1.0606 - val_accuracy: 0.5840 - val_loss: 1.2089\n",
      "Epoch 45/100\n",
      "82/82 - 1s - 16ms/step - accuracy: 0.6078 - loss: 1.0659 - val_accuracy: 0.5886 - val_loss: 1.2299\n",
      "Epoch 46/100\n",
      "82/82 - 1s - 16ms/step - accuracy: 0.6167 - loss: 1.0422 - val_accuracy: 0.5871 - val_loss: 1.2165\n",
      "Epoch 47/100\n",
      "82/82 - 1s - 16ms/step - accuracy: 0.6170 - loss: 1.0268 - val_accuracy: 0.6210 - val_loss: 1.2086\n",
      "Epoch 48/100\n",
      "82/82 - 1s - 15ms/step - accuracy: 0.6132 - loss: 1.0257 - val_accuracy: 0.6133 - val_loss: 1.1955\n",
      "Epoch 49/100\n",
      "82/82 - 1s - 15ms/step - accuracy: 0.6151 - loss: 1.0445 - val_accuracy: 0.6133 - val_loss: 1.2163\n",
      "Epoch 50/100\n",
      "82/82 - 1s - 16ms/step - accuracy: 0.6313 - loss: 1.0010 - val_accuracy: 0.6163 - val_loss: 1.2060\n",
      "Epoch 51/100\n",
      "82/82 - 1s - 15ms/step - accuracy: 0.6498 - loss: 0.9834 - val_accuracy: 0.5948 - val_loss: 1.2332\n",
      "Epoch 52/100\n",
      "82/82 - 1s - 15ms/step - accuracy: 0.6313 - loss: 0.9925 - val_accuracy: 0.5963 - val_loss: 1.2386\n",
      "Epoch 53/100\n",
      "82/82 - 1s - 16ms/step - accuracy: 0.6464 - loss: 0.9550 - val_accuracy: 0.6256 - val_loss: 1.2130\n",
      "Epoch 54/100\n",
      "82/82 - 1s - 15ms/step - accuracy: 0.6568 - loss: 0.9361 - val_accuracy: 0.6502 - val_loss: 1.1547\n",
      "Epoch 55/100\n",
      "82/82 - 1s - 16ms/step - accuracy: 0.6383 - loss: 0.9777 - val_accuracy: 0.6025 - val_loss: 1.1805\n",
      "Epoch 56/100\n",
      "82/82 - 1s - 15ms/step - accuracy: 0.6294 - loss: 0.9862 - val_accuracy: 0.6240 - val_loss: 1.2010\n",
      "Epoch 57/100\n",
      "82/82 - 1s - 15ms/step - accuracy: 0.6413 - loss: 0.9650 - val_accuracy: 0.5917 - val_loss: 1.1952\n",
      "Epoch 58/100\n",
      "82/82 - 1s - 15ms/step - accuracy: 0.6533 - loss: 0.9380 - val_accuracy: 0.6194 - val_loss: 1.1880\n",
      "Epoch 59/100\n",
      "82/82 - 1s - 15ms/step - accuracy: 0.6545 - loss: 0.9175 - val_accuracy: 0.6379 - val_loss: 1.1747\n",
      "Epoch 60/100\n",
      "82/82 - 1s - 15ms/step - accuracy: 0.6521 - loss: 0.9460 - val_accuracy: 0.6641 - val_loss: 1.1444\n",
      "Epoch 61/100\n",
      "82/82 - 1s - 15ms/step - accuracy: 0.6552 - loss: 0.9102 - val_accuracy: 0.6733 - val_loss: 1.1060\n",
      "Epoch 62/100\n",
      "82/82 - 1s - 15ms/step - accuracy: 0.6629 - loss: 0.8887 - val_accuracy: 0.6456 - val_loss: 1.1490\n",
      "Epoch 63/100\n",
      "82/82 - 1s - 15ms/step - accuracy: 0.6591 - loss: 0.9201 - val_accuracy: 0.6841 - val_loss: 1.2037\n",
      "Epoch 64/100\n",
      "82/82 - 1s - 16ms/step - accuracy: 0.6714 - loss: 0.8854 - val_accuracy: 0.6579 - val_loss: 1.2235\n",
      "Epoch 65/100\n",
      "82/82 - 1s - 15ms/step - accuracy: 0.6687 - loss: 0.8843 - val_accuracy: 0.6256 - val_loss: 1.1963\n",
      "Epoch 66/100\n",
      "82/82 - 1s - 15ms/step - accuracy: 0.6753 - loss: 0.8690 - val_accuracy: 0.6410 - val_loss: 1.2608\n",
      "Epoch 67/100\n",
      "82/82 - 1s - 15ms/step - accuracy: 0.6583 - loss: 0.8975 - val_accuracy: 0.6502 - val_loss: 1.2755\n",
      "Epoch 68/100\n",
      "82/82 - 1s - 15ms/step - accuracy: 0.6734 - loss: 0.8607 - val_accuracy: 0.6518 - val_loss: 1.1684\n",
      "Epoch 69/100\n",
      "82/82 - 1s - 16ms/step - accuracy: 0.6757 - loss: 0.8397 - val_accuracy: 0.6703 - val_loss: 1.1290\n",
      "Epoch 70/100\n",
      "82/82 - 1s - 15ms/step - accuracy: 0.6857 - loss: 0.8459 - val_accuracy: 0.6102 - val_loss: 1.2871\n",
      "Epoch 71/100\n",
      "82/82 - 1s - 15ms/step - accuracy: 0.6641 - loss: 0.8756 - val_accuracy: 0.6425 - val_loss: 1.1741\n",
      "Epoch 72/100\n",
      "82/82 - 1s - 15ms/step - accuracy: 0.6826 - loss: 0.8431 - val_accuracy: 0.6471 - val_loss: 1.2298\n",
      "Epoch 73/100\n",
      "82/82 - 1s - 16ms/step - accuracy: 0.6737 - loss: 0.8521 - val_accuracy: 0.6795 - val_loss: 1.1511\n",
      "Epoch 74/100\n",
      "82/82 - 1s - 15ms/step - accuracy: 0.6845 - loss: 0.8235 - val_accuracy: 0.6749 - val_loss: 1.1329\n",
      "Epoch 75/100\n",
      "82/82 - 1s - 15ms/step - accuracy: 0.6988 - loss: 0.8039 - val_accuracy: 0.6888 - val_loss: 1.1334\n",
      "Epoch 76/100\n",
      "82/82 - 1s - 15ms/step - accuracy: 0.6973 - loss: 0.8018 - val_accuracy: 0.6626 - val_loss: 1.3096\n",
      "Epoch 77/100\n",
      "82/82 - 1s - 15ms/step - accuracy: 0.7011 - loss: 0.7739 - val_accuracy: 0.6810 - val_loss: 1.0977\n",
      "Epoch 78/100\n",
      "82/82 - 1s - 15ms/step - accuracy: 0.7069 - loss: 0.7974 - val_accuracy: 0.6780 - val_loss: 1.1807\n",
      "Epoch 79/100\n",
      "82/82 - 1s - 15ms/step - accuracy: 0.6757 - loss: 0.8707 - val_accuracy: 0.6579 - val_loss: 1.2405\n",
      "Epoch 80/100\n",
      "82/82 - 1s - 15ms/step - accuracy: 0.6845 - loss: 0.8287 - val_accuracy: 0.6980 - val_loss: 1.1833\n",
      "Epoch 81/100\n",
      "82/82 - 1s - 15ms/step - accuracy: 0.7127 - loss: 0.7813 - val_accuracy: 0.6641 - val_loss: 1.2456\n",
      "Epoch 82/100\n",
      "82/82 - 1s - 15ms/step - accuracy: 0.7057 - loss: 0.8036 - val_accuracy: 0.6826 - val_loss: 1.1268\n",
      "Epoch 83/100\n",
      "82/82 - 1s - 15ms/step - accuracy: 0.6618 - loss: 0.8944 - val_accuracy: 0.6687 - val_loss: 1.1360\n",
      "Epoch 84/100\n",
      "82/82 - 1s - 15ms/step - accuracy: 0.7092 - loss: 0.7793 - val_accuracy: 0.6826 - val_loss: 1.1160\n",
      "Epoch 85/100\n",
      "82/82 - 1s - 15ms/step - accuracy: 0.7119 - loss: 0.7847 - val_accuracy: 0.6687 - val_loss: 1.2179\n",
      "Epoch 86/100\n",
      "82/82 - 1s - 15ms/step - accuracy: 0.7165 - loss: 0.7536 - val_accuracy: 0.6872 - val_loss: 1.1492\n",
      "Epoch 87/100\n",
      "82/82 - 1s - 15ms/step - accuracy: 0.7088 - loss: 0.7530 - val_accuracy: 0.6733 - val_loss: 1.1602\n",
      "Epoch 88/100\n",
      "82/82 - 1s - 15ms/step - accuracy: 0.7258 - loss: 0.7290 - val_accuracy: 0.6595 - val_loss: 1.2022\n",
      "Epoch 89/100\n",
      "82/82 - 1s - 15ms/step - accuracy: 0.7181 - loss: 0.7292 - val_accuracy: 0.6888 - val_loss: 1.1503\n",
      "Epoch 90/100\n",
      "82/82 - 1s - 16ms/step - accuracy: 0.7281 - loss: 0.7246 - val_accuracy: 0.6995 - val_loss: 1.1149\n",
      "Epoch 91/100\n",
      "82/82 - 1s - 15ms/step - accuracy: 0.7312 - loss: 0.7129 - val_accuracy: 0.7103 - val_loss: 1.1026\n",
      "Epoch 92/100\n",
      "82/82 - 1s - 15ms/step - accuracy: 0.7158 - loss: 0.7292 - val_accuracy: 0.6733 - val_loss: 1.1674\n",
      "Epoch 93/100\n",
      "82/82 - 1s - 15ms/step - accuracy: 0.7150 - loss: 0.7347 - val_accuracy: 0.6795 - val_loss: 1.2734\n",
      "Epoch 94/100\n",
      "82/82 - 1s - 15ms/step - accuracy: 0.7138 - loss: 0.8014 - val_accuracy: 0.6934 - val_loss: 1.1443\n",
      "Epoch 95/100\n",
      "82/82 - 1s - 15ms/step - accuracy: 0.7347 - loss: 0.7050 - val_accuracy: 0.6610 - val_loss: 1.1402\n",
      "Epoch 96/100\n",
      "82/82 - 1s - 15ms/step - accuracy: 0.7081 - loss: 0.7479 - val_accuracy: 0.6703 - val_loss: 1.3468\n",
      "Epoch 97/100\n",
      "82/82 - 1s - 15ms/step - accuracy: 0.7219 - loss: 0.7132 - val_accuracy: 0.6780 - val_loss: 1.1690\n",
      "Epoch 98/100\n",
      "82/82 - 1s - 15ms/step - accuracy: 0.7119 - loss: 0.7669 - val_accuracy: 0.6841 - val_loss: 1.1768\n",
      "Epoch 99/100\n",
      "82/82 - 1s - 15ms/step - accuracy: 0.7138 - loss: 0.7332 - val_accuracy: 0.7149 - val_loss: 1.1649\n",
      "Epoch 100/100\n",
      "82/82 - 1s - 15ms/step - accuracy: 0.7154 - loss: 0.7257 - val_accuracy: 0.6980 - val_loss: 1.1690\n"
     ]
    }
   ],
   "execution_count": 178
  },
  {
   "metadata": {
    "ExecuteTime": {
     "end_time": "2024-12-29T11:36:58.593491100Z",
     "start_time": "2024-12-12T13:22:36.395219Z"
    }
   },
   "cell_type": "code",
   "source": [
    "train_acc = model.evaluate(X_train, y_train, verbose=0)\n",
    "test_acc = model.evaluate(X_test, y_test, verbose=0)\n",
    "print(train_acc, test_acc)"
   ],
   "id": "f56871de6bfe81b7",
   "outputs": [
    {
     "name": "stdout",
     "output_type": "stream",
     "text": [
      "[0.5198560357093811, 0.8183571100234985] [1.1689674854278564, 0.6979969143867493]\n"
     ]
    }
   ],
   "execution_count": 179
  },
  {
   "metadata": {
    "ExecuteTime": {
     "end_time": "2024-12-29T11:36:58.593491100Z",
     "start_time": "2024-12-12T13:10:17.887360Z"
    }
   },
   "cell_type": "code",
   "source": "",
   "id": "54f87605611ab57",
   "outputs": [
    {
     "name": "stdout",
     "output_type": "stream",
     "text": [
      "float64\n",
      "int64\n",
      "float64\n",
      "int64\n"
     ]
    }
   ],
   "execution_count": 149
  }
 ],
 "metadata": {
  "kernelspec": {
   "display_name": "Python 3",
   "language": "python",
   "name": "python3"
  },
  "language_info": {
   "codemirror_mode": {
    "name": "ipython",
    "version": 2
   },
   "file_extension": ".py",
   "mimetype": "text/x-python",
   "name": "python",
   "nbconvert_exporter": "python",
   "pygments_lexer": "ipython2",
   "version": "2.7.6"
  }
 },
 "nbformat": 4,
 "nbformat_minor": 5
}
